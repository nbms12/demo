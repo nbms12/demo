{
  "cells": [
    {
      "cell_type": "markdown",
      "metadata": {
        "id": "view-in-github",
        "colab_type": "text"
      },
      "source": [
        "<a href=\"https://colab.research.google.com/github/nbms12/demo/blob/main/practice.ipynb\" target=\"_parent\"><img src=\"https://colab.research.google.com/assets/colab-badge.svg\" alt=\"Open In Colab\"/></a>"
      ]
    },
    {
      "cell_type": "markdown",
      "metadata": {
        "id": "x_P5-Tr2xIRQ"
      },
      "source": [
        "prog 0\n"
      ]
    },
    {
      "cell_type": "code",
      "execution_count": null,
      "metadata": {
        "id": "AHEn1CDw-Qh1"
      },
      "outputs": [],
      "source": []
    },
    {
      "cell_type": "code",
      "execution_count": null,
      "metadata": {
        "colab": {
          "base_uri": "https://localhost:8080/",
          "height": 339
        },
        "id": "JiJZeVnj3tz7",
        "outputId": "3d7733da-b532-46af-dc68-c271bb0ffd28"
      },
      "outputs": [
        {
          "ename": "TclError",
          "evalue": "ignored",
          "output_type": "error",
          "traceback": [
            "\u001b[0;31m---------------------------------------------------------------------------\u001b[0m",
            "\u001b[0;31mTclError\u001b[0m                                  Traceback (most recent call last)",
            "\u001b[0;32m<ipython-input-1-7054da16f167>\u001b[0m in \u001b[0;36m<cell line: 2>\u001b[0;34m()\u001b[0m\n\u001b[1;32m      1\u001b[0m \u001b[0;32mimport\u001b[0m \u001b[0mtkinter\u001b[0m \u001b[0;32mas\u001b[0m \u001b[0mtk\u001b[0m\u001b[0;34m\u001b[0m\u001b[0;34m\u001b[0m\u001b[0m\n\u001b[0;32m----> 2\u001b[0;31m \u001b[0mr\u001b[0m \u001b[0;34m=\u001b[0m \u001b[0mtk\u001b[0m\u001b[0;34m.\u001b[0m\u001b[0mTk\u001b[0m\u001b[0;34m(\u001b[0m\u001b[0;34m)\u001b[0m\u001b[0;34m\u001b[0m\u001b[0;34m\u001b[0m\u001b[0m\n\u001b[0m\u001b[1;32m      3\u001b[0m \u001b[0mr\u001b[0m\u001b[0;34m.\u001b[0m\u001b[0mtitle\u001b[0m\u001b[0;34m(\u001b[0m\u001b[0;34m'Counting Seconds'\u001b[0m\u001b[0;34m)\u001b[0m\u001b[0;34m\u001b[0m\u001b[0;34m\u001b[0m\u001b[0m\n\u001b[1;32m      4\u001b[0m \u001b[0mr\u001b[0m\u001b[0;34m.\u001b[0m\u001b[0mmainloop\u001b[0m\u001b[0;34m(\u001b[0m\u001b[0;34m)\u001b[0m\u001b[0;34m\u001b[0m\u001b[0;34m\u001b[0m\u001b[0m\n",
            "\u001b[0;32m/usr/lib/python3.10/tkinter/__init__.py\u001b[0m in \u001b[0;36m__init__\u001b[0;34m(self, screenName, baseName, className, useTk, sync, use)\u001b[0m\n\u001b[1;32m   2300\u001b[0m                 \u001b[0mbaseName\u001b[0m \u001b[0;34m=\u001b[0m \u001b[0mbaseName\u001b[0m \u001b[0;34m+\u001b[0m \u001b[0mext\u001b[0m\u001b[0;34m\u001b[0m\u001b[0;34m\u001b[0m\u001b[0m\n\u001b[1;32m   2301\u001b[0m         \u001b[0minteractive\u001b[0m \u001b[0;34m=\u001b[0m \u001b[0;32mFalse\u001b[0m\u001b[0;34m\u001b[0m\u001b[0;34m\u001b[0m\u001b[0m\n\u001b[0;32m-> 2302\u001b[0;31m         \u001b[0mself\u001b[0m\u001b[0;34m.\u001b[0m\u001b[0mtk\u001b[0m \u001b[0;34m=\u001b[0m \u001b[0m_tkinter\u001b[0m\u001b[0;34m.\u001b[0m\u001b[0mcreate\u001b[0m\u001b[0;34m(\u001b[0m\u001b[0mscreenName\u001b[0m\u001b[0;34m,\u001b[0m \u001b[0mbaseName\u001b[0m\u001b[0;34m,\u001b[0m \u001b[0mclassName\u001b[0m\u001b[0;34m,\u001b[0m \u001b[0minteractive\u001b[0m\u001b[0;34m,\u001b[0m \u001b[0mwantobjects\u001b[0m\u001b[0;34m,\u001b[0m \u001b[0museTk\u001b[0m\u001b[0;34m,\u001b[0m \u001b[0msync\u001b[0m\u001b[0;34m,\u001b[0m \u001b[0muse\u001b[0m\u001b[0;34m)\u001b[0m\u001b[0;34m\u001b[0m\u001b[0;34m\u001b[0m\u001b[0m\n\u001b[0m\u001b[1;32m   2303\u001b[0m         \u001b[0;32mif\u001b[0m \u001b[0museTk\u001b[0m\u001b[0;34m:\u001b[0m\u001b[0;34m\u001b[0m\u001b[0;34m\u001b[0m\u001b[0m\n\u001b[1;32m   2304\u001b[0m             \u001b[0mself\u001b[0m\u001b[0;34m.\u001b[0m\u001b[0m_loadtk\u001b[0m\u001b[0;34m(\u001b[0m\u001b[0;34m)\u001b[0m\u001b[0;34m\u001b[0m\u001b[0;34m\u001b[0m\u001b[0m\n",
            "\u001b[0;31mTclError\u001b[0m: no display name and no $DISPLAY environment variable"
          ]
        }
      ],
      "source": [
        "import tkinter as tk\n",
        "r = tk.Tk()\n",
        "r.title('Counting Seconds')\n",
        "r.mainloop()"
      ]
    },
    {
      "cell_type": "markdown",
      "metadata": {
        "id": "FBImlqFMn_tA"
      },
      "source": [
        "import pandas as pd\n",
        "import seaborn as bn\n",
        "import numpy as np\n",
        "mydata=pd.read_csv(\"/content/sample_data/literacy.csv\",header=0)\n",
        "print(mydata.info())\n",
        "#print(mydata.head(40))\n",
        "sq = mydata[\"State\"]\n",
        "sd=mydata[\"Literacy\"]\n",
        "mydata[mydata[\"Literacy\"]>45.00].head(50), mydata[mydata[\"Population\"]==4174064].head(50)\n"
      ]
    },
    {
      "cell_type": "code",
      "execution_count": null,
      "metadata": {
        "id": "8ICfbrTLZXl5"
      },
      "outputs": [],
      "source": []
    },
    {
      "cell_type": "markdown",
      "metadata": {
        "id": "5jrTg7BucrdF"
      },
      "source": [
        "program 1"
      ]
    },
    {
      "cell_type": "code",
      "execution_count": null,
      "metadata": {
        "colab": {
          "base_uri": "https://localhost:8080/"
        },
        "id": "SQELiwq3cg1H",
        "outputId": "f2f658d3-4196-4a06-dcad-e8ae797d9ab6"
      },
      "outputs": [
        {
          "name": "stdout",
          "output_type": "stream",
          "text": [
            "19\n"
          ]
        }
      ],
      "source": [
        "x = \"account credit card\"\n",
        "\n",
        "\n",
        "print(len(x))\n",
        "# 1. write a prog to display three"
      ]
    },
    {
      "cell_type": "code",
      "execution_count": null,
      "metadata": {
        "id": "HOMyW34OjJf-"
      },
      "outputs": [],
      "source": [
        "some text show split strings with  comma , dot,and spaces  and show that wich has lengthier.\n",
        "show accname and bank name in single line with acc name is not exceeding length max 15 ( GIVEN : ACC NAME IS \"account credit card\", ACC NO is \"2565653235632\")"
      ]
    },
    {
      "cell_type": "code",
      "execution_count": null,
      "metadata": {
        "colab": {
          "base_uri": "https://localhost:8080/",
          "height": 70
        },
        "id": "tHMMKbUVJSy0",
        "outputId": "b6773e8b-71f8-457b-c20b-920194df3ba2"
      },
      "outputs": [
        {
          "name": "stdout",
          "output_type": "stream",
          "text": [
            "2200\n"
          ]
        },
        {
          "data": {
            "application/vnd.google.colaboratory.intrinsic+json": {
              "type": "string"
            },
            "text/plain": [
              "'presentYr = 2023\\nage =  presentYr-dob\\nprint(88%2)\\nif age>60:\\n  print(\"Valid , SEn Tkt\")\\nelse:\\n  print(\"NOT VALID\")'"
            ]
          },
          "execution_count": 1,
          "metadata": {},
          "output_type": "execute_result"
        }
      ],
      "source": [
        "#chk sen citizen=\n",
        "#dob = int(input(\"enter ur actual birth year\"))\n",
        "sal = 2300\n",
        "sal-=100\n",
        "#sal=sal+500\n",
        "print(sal)\n",
        "\"\"\"presentYr = 2023\n",
        "age =  presentYr-dob\n",
        "print(88%2)\n",
        "if age>60:\n",
        "  print(\"Valid , SEn Tkt\")\n",
        "else:\n",
        "  print(\"NOT VALID\")\"\"\""
      ]
    },
    {
      "cell_type": "code",
      "execution_count": null,
      "metadata": {
        "colab": {
          "base_uri": "https://localhost:8080/"
        },
        "id": "w_5CRXLXTrAF",
        "outputId": "9500946d-4021-43dc-98dd-a381d542c4a2"
      },
      "outputs": [
        {
          "name": "stdout",
          "output_type": "stream",
          "text": [
            "['blackcurrant', 'blackcurrant', 'cherry']\n"
          ]
        }
      ],
      "source": [
        "# prog to find position of word started in the given text and show that index size is less than actual length ( given : text= \"SWISSCANALSAMURAI IN SEA\", word : \"SAM\")\n",
        "thislist = [\"apple\", \"banana\", \"cherry\"]\n",
        "thislist[0]=thislist[1] =\"blackcurrant\"\n",
        "print(thislist)"
      ]
    },
    {
      "cell_type": "code",
      "execution_count": null,
      "metadata": {
        "colab": {
          "base_uri": "https://localhost:8080/"
        },
        "id": "4gPVSm5-Yu1y",
        "outputId": "18008534-aa7e-4ea7-eb83-0b5eacfa7eae"
      },
      "outputs": [
        {
          "name": "stdout",
          "output_type": "stream",
          "text": [
            "\n",
            "\n",
            "From Kavya\n",
            "To\n",
            "BCA\n",
            "Dear students,\n",
            "College Bus facility will be available from tomorrow.\n",
            "First pick up point is at 7:20 am. Busses will be available from old pick up points.\n",
            "\n",
            "Message Recived to\n",
            " BCA\n",
            "\n",
            "\n",
            "From Kavya\n",
            "To\n",
            "BCOM\n",
            "Dear students,\n",
            "College Bus facility will be available from tomorrow.\n",
            "First pick up point is at 7:20 am. Busses will be available from old pick up points.\n",
            "\n",
            "Message Recived to\n",
            " BCOM\n",
            "\n",
            "\n",
            "From Kavya\n",
            "To\n",
            "BSC\n",
            "Dear students,\n",
            "College Bus facility will be available from tomorrow.\n",
            "First pick up point is at 7:20 am. Busses will be available from old pick up points.\n",
            "\n",
            "Message Recived to\n",
            " BSC\n",
            "\n",
            "\n",
            "From Kavya\n",
            "To\n",
            "BBA\n",
            "Dear students,\n",
            "College Bus facility will be available from tomorrow.\n",
            "First pick up point is at 7:20 am. Busses will be available from old pick up points.\n",
            "\n",
            "Message Recived to\n",
            " BBA\n",
            "\n",
            "\n",
            "From Kavya\n",
            "To\n",
            "BA\n",
            "Dear students,\n",
            "College Bus facility will be available from tomorrow.\n",
            "First pick up point is at 7:20 am. Busses will be available from old pick up points.\n",
            "\n",
            "Message Recived to\n",
            " BA\n",
            "\n",
            "\n",
            "From Kavya\n",
            "To\n",
            "BBM\n",
            "Dear students,\n",
            "College Bus facility will be available from tomorrow.\n",
            "First pick up point is at 7:20 am. Busses will be available from old pick up points.\n",
            "\n",
            "Message Recived to\n",
            " BBM\n",
            "\n",
            "\n",
            "\n",
            "\n",
            "Tables Of 2\n",
            "\n",
            "2  x  1 = 2 \n",
            "\n",
            "2  x  2 = 4 \n",
            "\n",
            "2  x  3 = 6 \n",
            "\n",
            "2  x  4 = 8 \n",
            "\n",
            "2  x  5 = 10 \n",
            "\n",
            "2  x  6 = 12 \n",
            "\n",
            "2  x  7 = 14 \n",
            "\n",
            "2  x  8 = 16 \n",
            "\n",
            "2  x  9 = 18 \n",
            "\n",
            "2  x  10 = 20 \n",
            "\n"
          ]
        }
      ],
      "source": [
        "Branch=[\"BCA\",\"BCOM\",\"BSC\",\"BBA\",\"BA\",\"BBM\"]\n",
        "for x in Branch:\n",
        "  print(\"\\n\\nFrom Kavya\\nTo\")\n",
        "  print(x)\n",
        "  print(\"Dear students,\\nCollege Bus facility will be available from tomorrow.\\nFirst pick up point is at 7:20 am. Busses will be available from old pick up points.\\n\")\n",
        "  print(\"Message Recived to\\n\",x)\n",
        "print(\"\\n\\n\\n\")\n",
        "\n",
        "print(\"Tables Of 2\\n\")\n",
        "a=10\n",
        "b=2\n",
        "for x in range (1,a+1):\n",
        "  print(b,\" x \",x,\"=\",b*x,\"\\n\")\n"
      ]
    },
    {
      "cell_type": "markdown",
      "metadata": {
        "id": "k-VMa-GteU9l"
      },
      "source": [
        "# prog to send a same msg to five of ur friends and display message from each freind recieved\n",
        "\n",
        "\n",
        "# prog to create any table ( like 2*1=2 )"
      ]
    },
    {
      "cell_type": "markdown",
      "metadata": {
        "id": "xXD4PAQ2oei2"
      },
      "source": [
        "a = 200\n",
        "b = 33\n",
        "if b > a:\n",
        "  print(\"b is greater than a\")\n",
        "else:\n",
        "  print(\"b is not greater than a\")\n"
      ]
    },
    {
      "cell_type": "code",
      "execution_count": null,
      "metadata": {
        "colab": {
          "base_uri": "https://localhost:8080/"
        },
        "id": "-PKSkzRXogk2",
        "outputId": "c225945c-b5cb-4b52-a1f9-31f686fb93bf"
      },
      "outputs": [
        {
          "name": "stdout",
          "output_type": "stream",
          "text": [
            "b is not greater than a\n",
            "b is not greater than a\n"
          ]
        }
      ],
      "source": [
        "a = 200\n",
        "b = 33\n",
        "if b > a:\n",
        "  print(\"b is greater than a\")\n",
        "else:\n",
        "  print(\"b is not greater than a\")\n",
        "print(\"b is greater than a\") if b > a else print(\"b is not greater than a\")"
      ]
    },
    {
      "cell_type": "markdown",
      "metadata": {
        "id": "QMSfjJFAtl1F"
      },
      "source": [
        "14/6 -\n",
        "Question\n",
        "1.\n",
        "## #create an employee details page for emplouyee name Emp1 ( give any name, id , Role, City, Mail id ) and dispaly the id of Emp1\n",
        "\n",
        " Question 2\n",
        "\n",
        "# #There is a grammar error shows word \" Defune\" in the para , replace this word with correct word \" Define\" and show that there are no more grammar error in the same para.\n",
        "\n",
        " ( given para = \"A warranty can help ensure your peace of mind. To help you solve your biggest problems quickly, we’ve put together a Defune collection of the most common Warranty\" )\n",
        "\n"
      ]
    },
    {
      "cell_type": "code",
      "execution_count": null,
      "metadata": {
        "id": "36t5na8krL6Z"
      },
      "outputs": [],
      "source": []
    },
    {
      "cell_type": "code",
      "execution_count": null,
      "metadata": {
        "id": "Cq6Q6xqkyHSr"
      },
      "outputs": [],
      "source": []
    },
    {
      "cell_type": "markdown",
      "metadata": {
        "id": "zGkQih44trZ8"
      },
      "source": [
        "Q.8 (Anu Shri)"
      ]
    },
    {
      "cell_type": "markdown",
      "metadata": {
        "id": "mFcY2IpVOWe_"
      },
      "source": []
    },
    {
      "cell_type": "code",
      "execution_count": null,
      "metadata": {
        "colab": {
          "base_uri": "https://localhost:8080/"
        },
        "id": "NKSYGVeotlxg",
        "outputId": "c7753b49-cb46-4a40-a04e-49c8bacb7de3"
      },
      "outputs": [
        {
          "name": "stdout",
          "output_type": "stream",
          "text": [
            "{'Name': 'Sam', 'ID': 5472638, 'Role': 'Manager', 'City': 'Mumbai', 'Mail ID': 'samxyz@gmail.com'}\n",
            "5472638\n"
          ]
        }
      ],
      "source": [
        "Emp1 = {\n",
        "    'Name' : 'Sam',\n",
        "    'ID'   : 5472638,\n",
        "    'Role' : 'Manager',\n",
        "    'City' : 'Mumbai',\n",
        "   'Mail ID': 'samxyz@gmail.com'\n",
        "}\n",
        "\n",
        "print(Emp1)\n",
        "x = Emp1.get(\"ID\")\n",
        "print(x)"
      ]
    },
    {
      "cell_type": "markdown",
      "metadata": {
        "id": "HRifuykpu4kv"
      },
      "source": [
        "Q.9(Anu Shri)"
      ]
    },
    {
      "cell_type": "code",
      "execution_count": null,
      "metadata": {
        "colab": {
          "base_uri": "https://localhost:8080/"
        },
        "id": "iTiv5TSOurp-",
        "outputId": "ccb52e71-3020-47d6-fa60-d9aae1911a0c"
      },
      "outputs": [
        {
          "name": "stdout",
          "output_type": "stream",
          "text": [
            "A warranty can help ensure your peace of mind. To help you solve your biggest problems quickly, we’ve put together a Defune collection of the most common Warranty\n"
          ]
        }
      ],
      "source": [
        "given_para =  \"A warranty can help ensure your peace of mind. To help you solve your biggest problems quickly, we’ve put together a Defune collection of the most common Warranty\"\n",
        "\n",
        "x =  given_para.replace(\"Defuned\",\"Define\")\n",
        "print(x)"
      ]
    },
    {
      "cell_type": "markdown",
      "metadata": {
        "id": "8Bh7HwONHZ4L"
      },
      "source": [
        "G Jashwanth"
      ]
    },
    {
      "cell_type": "code",
      "execution_count": null,
      "metadata": {
        "colab": {
          "base_uri": "https://localhost:8080/"
        },
        "id": "QUsLaPLBHjLp",
        "outputId": "058a2348-d724-4e3e-f789-b30e488e45ca"
      },
      "outputs": [
        {
          "name": "stdout",
          "output_type": "stream",
          "text": [
            "{'name': 'john', 'id': 23412, 'role': 'uiux designer', 'city': 'Pune', 'Mail id': 'johnb@gmail.com'}\n",
            "23412\n"
          ]
        }
      ],
      "source": [
        "employeesdetails = {\n",
        "    \"name\" : \"john\" ,\n",
        "    \"id\" : 23412 ,\n",
        "    \"role\" : \"uiux designer\" ,\n",
        "    \"city\" : \"Pune\" ,\n",
        "    \"Mail id\" : \"johnb@gmail.com\" ,\n",
        "}\n",
        "print(employeesdetails)\n",
        "print(employeesdetails[\"id\"])"
      ]
    },
    {
      "cell_type": "markdown",
      "metadata": {
        "id": "tpPH0X7UOihh"
      },
      "source": [
        "kavya N\n"
      ]
    },
    {
      "cell_type": "code",
      "execution_count": null,
      "metadata": {
        "colab": {
          "base_uri": "https://localhost:8080/"
        },
        "id": "Ez65NkugOqmq",
        "outputId": "c478ea6e-0083-48d0-cd02-f05fc29a124c"
      },
      "outputs": [
        {
          "name": "stdout",
          "output_type": "stream",
          "text": [
            "{'Name': 'kavya', 'id': 2012813, 'role': 'softwear developer', 'city': 'Hyderabad', 'mail id': 'kavyanagothi48@gmail.com'}\n",
            "2012813\n"
          ]
        }
      ],
      "source": [
        "employeedetails={\n",
        "    \"Name\": \"kavya\",\n",
        "    \"id\": 2012813,\n",
        "    \"role\":\"softwear developer\",\n",
        "    \"city\":\"Hyderabad\",\n",
        "    \"mail id\": \"kavyanagothi48@gmail.com\",\n",
        "}\n",
        "print(employeedetails)\n",
        "print(employeedetails[\"id\"])"
      ]
    },
    {
      "cell_type": "code",
      "execution_count": null,
      "metadata": {
        "colab": {
          "base_uri": "https://localhost:8080/"
        },
        "id": "QCdSyG5UQ7dd",
        "outputId": "c8249dce-d0d4-49dc-dc77-842d8137cc2a"
      },
      "outputs": [
        {
          "name": "stdout",
          "output_type": "stream",
          "text": [
            "A warranty can help ensure your peace of mind. To help you solve your biggest problems quickly, we’ve put together a Define collection of the most common Warranty\n"
          ]
        }
      ],
      "source": [
        "given=\"A warranty can help ensure your peace of mind. To help you solve your biggest problems quickly, we’ve put together a Defune collection of the most common Warranty\"\n",
        "x=given.replace(\"Defune\",\"Define\")\n",
        "print(x)"
      ]
    },
    {
      "cell_type": "markdown",
      "metadata": {
        "id": "itGLAQdaSSQT"
      },
      "source": [
        "varun Raj\n",
        "Q1"
      ]
    },
    {
      "cell_type": "code",
      "execution_count": null,
      "metadata": {
        "colab": {
          "base_uri": "https://localhost:8080/"
        },
        "id": "02MAan8dSZKn",
        "outputId": "488c6e4c-3ea9-4e24-949d-4cf71afe15c3"
      },
      "outputs": [
        {
          "name": "stdout",
          "output_type": "stream",
          "text": [
            "{'Name': 'Varun Raj', 'id': 987654, 'role': 'Java developer', 'city': 'Banglore', 'mail id': 'varunraj11@gmail.com'}\n",
            "987654\n"
          ]
        }
      ],
      "source": [
        "employee_details={\n",
        "    \"Name\": \"Varun Raj\",\n",
        "    \"id\": 987654,\n",
        "    \"role\":\"Java developer\",\n",
        "    \"city\":\"Banglore\",\n",
        "    \"mail id\": \"varunraj11@gmail.com\",\n",
        "}\n",
        "print(employee_details)\n",
        "print(employee_details[\"id\"])"
      ]
    },
    {
      "cell_type": "code",
      "execution_count": null,
      "metadata": {
        "id": "_q4Mg-hS-9zZ"
      },
      "outputs": [],
      "source": []
    },
    {
      "cell_type": "code",
      "execution_count": null,
      "metadata": {
        "id": "QzL4JcKz_AHB"
      },
      "outputs": [],
      "source": []
    },
    {
      "cell_type": "markdown",
      "metadata": {
        "id": "asWxMa3Q_AeK"
      },
      "source": []
    },
    {
      "cell_type": "code",
      "execution_count": null,
      "metadata": {
        "colab": {
          "base_uri": "https://localhost:8080/"
        },
        "id": "ceHBo21AS6Xc",
        "outputId": "be0323ec-4028-409e-dc73-7b931d482ac7"
      },
      "outputs": [
        {
          "name": "stdout",
          "output_type": "stream",
          "text": [
            "A warranty can help ensure your peace of mind. To help you solve your biggest problems quickly, we’ve put together a Define collection of the most common Warranty\n"
          ]
        }
      ],
      "source": [
        "para=\"A warranty can help ensure your peace of mind. To help you solve your biggest problems quickly, we’ve put together a Defune collection of the most common Warranty\"\n",
        "x=para.replace(\"Defune\",\"Define\")\n",
        "print(x)"
      ]
    },
    {
      "cell_type": "markdown",
      "metadata": {
        "id": "fE76UYj8BF5s"
      },
      "source": [
        "Q 1:\n",
        " write a funciton to execute a table and stop the opertion when table reaches 6th index\n",
        "\n",
        "\n",
        " q2:\n",
        " print employee details with parameters ( name, id, role ) within the function for 3 employeee( a1, a2, a3)"
      ]
    },
    {
      "cell_type": "markdown",
      "metadata": {
        "id": "f0bP9UfbAq1j"
      },
      "source": [
        "Nandu\n"
      ]
    },
    {
      "cell_type": "code",
      "execution_count": null,
      "metadata": {
        "colab": {
          "base_uri": "https://localhost:8080/"
        },
        "id": "BpohMdeFAvs6",
        "outputId": "86cf095f-0766-4589-ac2a-84c4226ed9e7"
      },
      "outputs": [
        {
          "name": "stdout",
          "output_type": "stream",
          "text": [
            "2 X 0 = 0\n",
            "2 X 1 = 2\n",
            "2 X 2 = 4\n",
            "2 X 3 = 6\n",
            "2 X 4 = 8\n",
            "2 X 5 = 10\n",
            "2 X 6 = 12\n"
          ]
        }
      ],
      "source": [
        "x=6\n",
        "y=2\n",
        "for x in range(x+1):\n",
        "  print(y,'X',x,'=',y*x)\n",
        "  if (x == 6):\n",
        "    break"
      ]
    },
    {
      "cell_type": "code",
      "execution_count": null,
      "metadata": {
        "colab": {
          "base_uri": "https://localhost:8080/"
        },
        "id": "3kKkaMpKAyzu",
        "outputId": "0a9ac7c5-98cb-4ab2-e7bf-fc090d08a1d2"
      },
      "outputs": [
        {
          "name": "stdout",
          "output_type": "stream",
          "text": [
            "Name: {drake}\n",
            "ID: {4200}\n",
            "Role A: {hr}\n",
            "-----------------------\n",
            "Name: {lil baby}\n",
            "ID: {1223}\n",
            "Role B: {manager}\n",
            "------------------------\n",
            "Name: {lil wayne}\n",
            "ID: {6400}\n",
            "Role C: {ceo}\n",
            "-----------------------\n",
            "Name: {drake}\n",
            "ID: {4200}\n",
            "Role A: {hr}\n",
            "-----------------------\n",
            "Name: {lil baby}\n",
            "ID: {1223}\n",
            "Role B: {manager}\n",
            "------------------------\n",
            "Name: {lil wayne}\n",
            "ID: {6400}\n",
            "Role C: {ceo}\n",
            "-----------------------\n",
            "Name: {drake}\n",
            "ID: {4200}\n",
            "Role A: {hr}\n",
            "-----------------------\n",
            "Name: {lil baby}\n",
            "ID: {1223}\n",
            "Role B: {manager}\n",
            "------------------------\n",
            "Name: {lil wayne}\n",
            "ID: {6400}\n",
            "Role C: {ceo}\n",
            "-----------------------\n"
          ]
        }
      ],
      "source": [
        "def print_employee_details(name, id, role):\n",
        "    print(\"Name: {drake}\")\n",
        "    print(\"ID: {4200}\")\n",
        "    print(\"Role A: {hr}\")\n",
        "    print(\"-----------------------\")\n",
        "    print(\"Name: {lil baby}\")\n",
        "    print(\"ID: {1223}\")\n",
        "    print(\"Role B: {manager}\")\n",
        "    print(\"------------------------\")\n",
        "    print(\"Name: {lil wayne}\")\n",
        "    print(\"ID: {6400}\")\n",
        "    print(\"Role C: {ceo}\")\n",
        "    print(\"-----------------------\")\n",
        "print_employee_details(\"a1\", id, \"Role A\")\n",
        "print_employee_details(\"a2\", id, \"Role B\")\n",
        "print_employee_details(\"a3\", id, \"Role C\")"
      ]
    },
    {
      "cell_type": "markdown",
      "metadata": {
        "id": "TEYYz8XEH2sr"
      },
      "source": [
        "kavya\n",
        "Q1"
      ]
    },
    {
      "cell_type": "code",
      "execution_count": null,
      "metadata": {
        "colab": {
          "base_uri": "https://localhost:8080/"
        },
        "id": "Xj8BKyM5H7IV",
        "outputId": "f2378aaa-908b-4b45-ac7c-d231a6de7c57"
      },
      "outputs": [
        {
          "name": "stdout",
          "output_type": "stream",
          "text": [
            "20 X 1 = 20\n",
            "20 X 2 = 40\n",
            "20 X 3 = 60\n",
            "20 X 4 = 80\n",
            "20 X 5 = 100\n",
            "20 X 6 = 120\n"
          ]
        }
      ],
      "source": [
        "a=6\n",
        "b=20\n",
        "for a in range(1,a+1):\n",
        "  print(b,'X',a,'=',b*a)\n",
        "  if (a == 6):\n",
        "    break"
      ]
    },
    {
      "cell_type": "markdown",
      "metadata": {
        "id": "r3n3_H7jLIoN"
      },
      "source": [
        "kavya Q2"
      ]
    },
    {
      "cell_type": "code",
      "execution_count": null,
      "metadata": {
        "colab": {
          "base_uri": "https://localhost:8080/"
        },
        "id": "ql3ydhYAKdHX",
        "outputId": "d5508f0c-db9c-4569-c819-dddc153ec8a3"
      },
      "outputs": [
        {
          "name": "stdout",
          "output_type": "stream",
          "text": [
            "Name: Kavya\n",
            "Id: 001\n",
            "Role: HR\n",
            "------------------------\n",
            "Name: Varun\n",
            "Id: 002\n",
            "Role: Finance Manager\n",
            "------------------------\n",
            "Name: Jashwanth\n",
            "Id: 003\n",
            "Role: Developer\n",
            "------------------------\n"
          ]
        }
      ],
      "source": [
        "#print employee details with parameters ( name, id, role ) within the function for 3 employeee( a1, a2, a3)\n",
        "\n",
        "class Emoloyee_Details:\n",
        "  def a1(self,name,id,role):\n",
        "    print(\"Name:\",name)\n",
        "    print(\"Id:\",id)\n",
        "    print(\"Role:\",role)\n",
        "    print(\"------------------------\")\n",
        "  def a2(self,name,id,role):\n",
        "    print(\"Name:\",name)\n",
        "    print(\"Id:\",id)\n",
        "    print(\"Role:\",role)\n",
        "    print(\"------------------------\")\n",
        "  def a3(self,name,id,role):\n",
        "    print(\"Name:\",name)\n",
        "    print(\"Id:\",id)\n",
        "    print(\"Role:\",role)\n",
        "    print(\"------------------------\")\n",
        "emp=Emoloyee_Details()\n",
        "emp.a1(\"Kavya\",\"001\",\"HR\")\n",
        "emp.a2(\"Varun\",\"002\",\"Finance Manager\")\n",
        "emp.a3(\"Jashwanth\",\"003\",\"Developer\")\n",
        "\n"
      ]
    },
    {
      "cell_type": "markdown",
      "metadata": {
        "id": "xus5BJoFjT_6"
      },
      "source": [
        "varun raj"
      ]
    },
    {
      "cell_type": "code",
      "execution_count": null,
      "metadata": {
        "colab": {
          "base_uri": "https://localhost:8080/"
        },
        "id": "x_1LaolnjVtY",
        "outputId": "a318cbd9-4fba-416d-c539-712db8378eb1"
      },
      "outputs": [
        {
          "name": "stdout",
          "output_type": "stream",
          "text": [
            "18 X 1 = 18\n",
            "18 X 2 = 36\n",
            "18 X 3 = 54\n",
            "18 X 4 = 72\n",
            "18 X 5 = 90\n",
            "18 X 6 = 108\n"
          ]
        }
      ],
      "source": [
        "p=6\n",
        "q=18\n",
        "for p in range(1,p+1):\n",
        "  print(q,'X',p,'=',q*p)\n",
        "  if (p == 6):\n",
        "    break"
      ]
    },
    {
      "cell_type": "markdown",
      "metadata": {
        "id": "BOLSks76kDWm"
      },
      "source": [
        "varun raj Q2"
      ]
    },
    {
      "cell_type": "code",
      "execution_count": null,
      "metadata": {
        "colab": {
          "base_uri": "https://localhost:8080/"
        },
        "id": "JyJyNm8RkHeX",
        "outputId": "61fcbde7-333a-454e-dd34-601889ec972d"
      },
      "outputs": [
        {
          "name": "stdout",
          "output_type": "stream",
          "text": [
            "Name: varun\n",
            "ID: 12345\n",
            "role: java developer\n",
            "-------------------\n",
            "Name: tarun\n",
            "ID: 98765\n",
            "role: python developer\n",
            "-------------------\n",
            "Name: lathika\n",
            "ID: 918276\n",
            "role: manager\n",
            "-------------------\n"
          ]
        }
      ],
      "source": [
        "\n",
        "def employee(name,id,role):\n",
        "  print(\"Name:\",name),\n",
        "  print(\"ID:\",id),\n",
        "  print(\"role:\",role)\n",
        "\n",
        "employee(\"varun\",12345,\"java developer\")\n",
        "print(\"-------------------\")\n",
        "employee(\"tarun\",98765,\"python developer\")\n",
        "print(\"-------------------\")\n",
        "employee(\"lathika\",918276,\"manager\")\n",
        "print(\"-------------------\")\n",
        "\n"
      ]
    },
    {
      "cell_type": "code",
      "execution_count": null,
      "metadata": {
        "colab": {
          "base_uri": "https://localhost:8080/"
        },
        "id": "LEHmC7XG5aw0",
        "outputId": "186e92d4-2926-449e-b905-a01f42c86eb5"
      },
      "outputs": [
        {
          "name": "stdout",
          "output_type": "stream",
          "text": [
            "Looking in indexes: https://pypi.org/simple, https://us-python.pkg.dev/colab-wheels/public/simple/\n",
            "\u001b[31mERROR: Could not find a version that satisfies the requirement opencv (from versions: none)\u001b[0m\u001b[31m\n",
            "\u001b[0m\u001b[31mERROR: No matching distribution found for opencv\u001b[0m\u001b[31m\n",
            "\u001b[0m"
          ]
        }
      ],
      "source": [
        "16/6\n",
        "question1 : %\n",
        "1.write a class for A+ people desribes about positive characteristics and negative characteristics and show only neg characteristics  using object\n",
        " ( given pos=[\"energetic\", \"serious\", \"patient\", \"calm\"] , neg=(\"aggressive\",\"Stubborn\",\"Anxious\")"
      ]
    },
    {
      "cell_type": "code",
      "execution_count": null,
      "metadata": {
        "colab": {
          "base_uri": "https://localhost:8080/"
        },
        "id": "_0q2YDFUIMjF",
        "outputId": "f2215976-aba3-447f-9fe9-da921e3973c8"
      },
      "outputs": [
        {
          "name": "stdout",
          "output_type": "stream",
          "text": [
            "enterr ur fav country to get data time dsds\n"
          ]
        }
      ],
      "source": [
        "country = str(input(\"enterr ur fav country to get data time \"))"
      ]
    },
    {
      "cell_type": "code",
      "execution_count": null,
      "metadata": {
        "colab": {
          "base_uri": "https://localhost:8080/"
        },
        "id": "ilEphQp7VQ8R",
        "outputId": "3b3448bc-b295-422d-cd9b-6ba907754093"
      },
      "outputs": [
        {
          "name": "stdout",
          "output_type": "stream",
          "text": [
            "F23xA4-E8U0dLsM7Ua-M74A0tuvycQb5txb3FNVg6II\n"
          ]
        }
      ],
      "source": [
        "import json\n",
        "\n",
        "# some JSON:\n",
        "x =  '{\"sodar_query_id\":\"2jSQZJvKNqSkrtoP9OeKqAg\",\"injector_basename\":\"sodar2\",\"bg_hash_basename\":\"F23xA4-E8U0dLsM7Ua-M74A0tuvycQb5txb3FNVg6II\",\"bg_binary\":\"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\",\"rc_enable\":\"y\",\"bg_snapshot_delay_ms\":\"500\",\"is_gen_204\":\"0\"}'\n",
        "\n",
        "# parse x:\n",
        "y = json.loads(x)\n",
        "\n",
        "# the result is a Python dictionary:\n",
        "print(y[\"bg_hash_basename\"])"
      ]
    },
    {
      "cell_type": "code",
      "execution_count": null,
      "metadata": {
        "id": "Ear44-s1qpzs"
      },
      "outputs": [],
      "source": [
        "question 1 :\n",
        "install  \"SciKit-Learn\" module/library and show that it is in the list ( use pip )\n",
        "\n",
        "question 2 :\n",
        "find top speed of racers and the avg top speed ( give car_speeds=[85, 101.33, 105.41,100.66,110]  all are in kmph)"
      ]
    },
    {
      "cell_type": "code",
      "execution_count": null,
      "metadata": {
        "colab": {
          "base_uri": "https://localhost:8080/"
        },
        "id": "6nMCgC3LOo2j",
        "outputId": "d61ddf01-1a64-4079-a6f3-e028a23eef19"
      },
      "outputs": [
        {
          "name": "stdout",
          "output_type": "stream",
          "text": [
            "Username is: 5656556565\n"
          ]
        }
      ],
      "source": [
        "import re\n",
        "print(\"Username is: \" + username)"
      ]
    },
    {
      "cell_type": "code",
      "execution_count": null,
      "metadata": {
        "id": "xdpoIQnhL6aB"
      },
      "outputs": [],
      "source": [
        "#MYSQL questions\n",
        "\n",
        "1) create a new database ( db1) and two tables with names ( tb1 and tb2 ) Given : tb1 has ( id, name, email) tb2 has (class, section, ContactAddress)\n",
        "2)insert data of 5 students in both tables given tb1( 10,\"jamy\",\"jamysaint@gmail.com\") tb2(4,A,\"street2, #2, Belearus\")\n",
        "3) jamy has changed his home and shifted to new location given (contactAddress =\" street 22, Peru\") show the updated record for jamy.\n"
      ]
    },
    {
      "cell_type": "code",
      "execution_count": null,
      "metadata": {
        "colab": {
          "base_uri": "https://localhost:8080/",
          "height": 130
        },
        "id": "vOoVzev3Zcyp",
        "outputId": "c99bd84c-de0f-4893-d840-6586f1bfec99"
      },
      "outputs": [
        {
          "ename": "SyntaxError",
          "evalue": "ignored",
          "output_type": "error",
          "traceback": [
            "\u001b[0;36m  File \u001b[0;32m\"<ipython-input-11-909b796713a7>\"\u001b[0;36m, line \u001b[0;32m3\u001b[0m\n\u001b[0;31m    from sys import stdout.buffer\u001b[0m\n\u001b[0m                          ^\u001b[0m\n\u001b[0;31mSyntaxError\u001b[0m\u001b[0;31m:\u001b[0m invalid syntax\n"
          ]
        }
      ],
      "source": [
        "#https://www.w3schools.com/python/python_ml_linear_regression.asp\n",
        "import pandas as pd\n",
        "from sys import stdout.buffer\n",
        "import matplotlib\n",
        "matplotlib.use('Agg')\n",
        "\n",
        "import matplotlib.pyplot as plt\n",
        "from scipy import stats\n",
        "health_data = pd.read_csv(\"/content/sample_data/california_housing_train.csv\",header=0, sep=\",\")\n",
        "health_data.dropna(inplace=True,axis=0)\n",
        "x= health_data[\"median_income\"]\n",
        "y=health_data[\"median_house_value\"]\n",
        "slope, intercept, r, p, std_err = stats.linregress(x, y)\n",
        "def myfunc(x):\n",
        "  return slope * x + intercept\n",
        "\n",
        "mymodel = list(map(myfunc, x))\n",
        "print(mymodel)\n",
        "plt.scatter(x, y)\n",
        "plt.plot(x, mymodel)\n",
        "plt.show()\n",
        "#Two  lines to make our compiler able to draw:\n",
        "plt.savefig(sys.stdout.buffer)\n",
        "sys.stdout.flush()\n",
        "#print(health_data.info())\n",
        "#print(health_data.describe())"
      ]
    },
    {
      "cell_type": "markdown",
      "metadata": {
        "id": "5h9osgWh6NOp"
      },
      "source": [
        " **Exploratory Data Analysis - EDA*\n",
        "\n",
        "EDA is applied to investigate the data and summarize the key insights.\n",
        "It will give you the basic understanding of your data, it’s distribution, null values and much more.\n",
        "You can either explore data using graphs or through some python functions.\n",
        "There will be two type of analysis. Univariate and Bivariate. In the univariate, you will be analyzing a single attribute. But in the bivariate, you will be analyzing an attribute with the target attribute.\n",
        "In the non-graphical approach, you will be using functions such as shape, summary, describe, isnull, info, datatypes and more.\n",
        "In the graphical approach, you will be using plots such as scatter, box, bar, density and correlation plots\n",
        "\n",
        "\n",
        "steps:\n",
        "\n",
        "1) LOAD DATASE\n",
        "\n",
        "\n",
        "2)INFO() METHOD\n",
        "\n",
        "3)DESCRIBE()MENTOD\n",
        "\n",
        "4)Find the duplicates (Using df.duplicated().sum()\n",
        "\n",
        "5)unique values( df['Pclass'].unique() )\n",
        "\n",
        "6)#Plot the unique values\n",
        "\n",
        "sns.countplot(df['Pclass']).unique(\n",
        "\n",
        "\n",
        "7)Finding the null values\n",
        "\n",
        "df.isnull().sum()\n",
        "\n",
        "\n",
        "8)Replace the Null values\n",
        "\n",
        "df.replace(np.nan,'0',inplace = True)\n",
        "\n",
        "\n",
        "9) filter the data ( dont need )\n",
        "\n",
        "df[df['Pclass']==1].head()\n",
        "\n",
        "10) Correlation Plot\n",
        "\n",
        "sns.heatmap(df.corr())"
      ]
    },
    {
      "cell_type": "code",
      "execution_count": null,
      "metadata": {
        "colab": {
          "base_uri": "https://localhost:8080/"
        },
        "id": "sYBWNmLGTiCV",
        "outputId": "ab2ae1dd-ebb0-4f0c-add0-daf857cf2691"
      },
      "outputs": [
        {
          "name": "stdout",
          "output_type": "stream",
          "text": [
            "Unnamed: 0    0.000000\n",
            "Literacy     -0.149593\n",
            "dtype: float64\n"
          ]
        },
        {
          "name": "stderr",
          "output_type": "stream",
          "text": [
            "<ipython-input-35-f7f5dc528256>:28: FutureWarning: The default value of numeric_only in DataFrame.skew is deprecated. In a future version, it will default to False. In addition, specifying 'numeric_only=None' is deprecated. Select only valid columns or specify the value of numeric_only to silence this warning.\n",
            "  print(mydata.skew())\n"
          ]
        }
      ],
      "source": [
        "import pandas as pd\n",
        "import seaborn as bn\n",
        "import numpy as np\n",
        "mydata = 5 Data 2011.csv\",header=0)\n",
        "#print(np.count(mydata[\"State\"].unique(),0));\n",
        "#print(mydata.groupby((mydata[\"State\"])).filter(lambda x: x[mydata[\"State\"]#].count() > 1))\n",
        "#print(mydata.head(10))\n",
        "#print(mydata.describe());\n",
        "#print(mydata.isnull().sum())\n",
        "sq = mydata[\"State\"]\n",
        "#print(sq)\n",
        "sd=mydata[\"Literacy\"]\n",
        "#x1=mydata[\"Population\"].unique().sum()\n",
        "#y1=mydata[\"Polio\"]\n",
        "#z=bn.barplot(data=mydata,x=x1,y=y1)\n",
        "#print(z)\n",
        "#print(mydata[\"Polio\"].isnull().sum())\n",
        "#q = mydata[\"Population\"].fillna(0)\n",
        "#w = mydata[\"Polio\"].fillna(0)\n",
        "#print(w.isnull().sum())\n",
        "#print(w.info())\n",
        "#bn.countplot(w.unique())\n",
        "#bn.heatmap(mydata.corr())\n",
        "#print(mydata.head(4))\n",
        "#bn.barplot(data=mydata, x=sq,y=sd)\n",
        "value=\"Maharashtra\"\n",
        "#mydata.loc(([mydata[\"Literacy\"]>=80.00]) & ([mydata['State']==value]))\n",
        "print(mydata.skew())"
      ]
    },
    {
      "cell_type": "code",
      "execution_count": null,
      "metadata": {
        "colab": {
          "base_uri": "https://localhost:8080/"
        },
        "id": "0RlZ9ltc0uuz",
        "outputId": "565c43d7-e358-424f-c145-dbbdfa406aa9"
      },
      "outputs": [
        {
          "name": "stdout",
          "output_type": "stream",
          "text": [
            "     Overall rank Country or region  Year  Score  GDP per capita  \\\n",
            "0             154       Afghanistan  2019  3.203           0.350   \n",
            "1             145       Afghanistan  2018  3.632           0.332   \n",
            "2             107           Albania  2019  4.719           0.947   \n",
            "3             112           Albania  2018  4.586           0.916   \n",
            "4              88           Algeria  2019  5.211           1.002   \n",
            "..            ...               ...   ...    ...             ...   \n",
            "307           152             Yemen  2018  3.355           0.442   \n",
            "308           138            Zambia  2019  4.107           0.578   \n",
            "309           125            Zambia  2018  4.377           0.562   \n",
            "310           146          Zimbabwe  2019  3.663           0.366   \n",
            "311           144          Zimbabwe  2018  3.692           0.357   \n",
            "\n",
            "     Social support  Healthy life expectancy  Freedom to make life choices  \\\n",
            "0             0.517                    0.361                         0.000   \n",
            "1             0.537                    0.255                         0.085   \n",
            "2             0.848                    0.874                         0.383   \n",
            "3             0.817                    0.790                         0.419   \n",
            "4             1.160                    0.785                         0.086   \n",
            "..              ...                      ...                           ...   \n",
            "307           1.073                    0.343                         0.244   \n",
            "308           1.058                    0.426                         0.431   \n",
            "309           1.047                    0.295                         0.503   \n",
            "310           1.114                    0.433                         0.361   \n",
            "311           1.094                    0.248                         0.406   \n",
            "\n",
            "     Generosity  Perceptions of corruption  \n",
            "0         0.158                      0.025  \n",
            "1         0.191                      0.036  \n",
            "2         0.178                      0.027  \n",
            "3         0.149                      0.032  \n",
            "4         0.073                      0.114  \n",
            "..          ...                        ...  \n",
            "307       0.083                      0.064  \n",
            "308       0.247                      0.087  \n",
            "309       0.221                      0.082  \n",
            "310       0.151                      0.089  \n",
            "311       0.132                      0.099  \n",
            "\n",
            "[312 rows x 10 columns]\n"
          ]
        }
      ],
      "source": [
        "import pandas as pd\n",
        "import seaborn as bn\n",
        "import numpy as np\n",
        "mydata = pd.read_csv(\"/content/report_2018-2019.csv\")\n",
        "#print(mydata)\n",
        "\n",
        "\n"
      ]
    },
    {
      "cell_type": "code",
      "execution_count": null,
      "metadata": {
        "colab": {
          "base_uri": "https://localhost:8080/"
        },
        "id": "I1xqt7EKyJpn",
        "outputId": "506b4b35-6084-43ab-ffb5-9d5e15934ddd"
      },
      "outputs": [
        {
          "name": "stdout",
          "output_type": "stream",
          "text": [
            "enter ur name jay\n",
            "enter ur emailjay@gmail.com\n",
            "enter ur mobile no81056055656\n",
            "********customer details are ************\n",
            "customer name: jay\n",
            "acc no of customer: 8161233\n",
            "mob no: 81056055656\n",
            " customer email is: jay@gmail.com\n",
            "branch office: Bellary\n"
          ]
        }
      ],
      "source": [
        "#********************Bank application************\n",
        "#  without class\n",
        "import random\n",
        "ifsc = \"HDFCS100032\"\n",
        "branch = \"Bellary\"\n",
        "Branch_phone = \"08656556565\"\n",
        "acc_type = \"Savings\"\n",
        "address=\n",
        "Nominee =\n",
        "#bal =0\n",
        "#trans_history=[]\n",
        "# def creating_acc_and_details():\n",
        "#     account_num=int(random.randint(1000000,9999999))\n",
        "#     custName=str(input(\"enter ur name \"))\n",
        "#     email_id =input(\"enter ur email\")\n",
        "#     mobile = int(input(\"enter ur mobile no\"))\n",
        "#     print(\"********customer details are ************\")\n",
        "#     print(\"customer name:\",custName)\n",
        "#     print(\"acc no of customer:\",account_num)\n",
        "#     print(\"mob no:\",mobile)\n",
        "#     print(\" customer email is:\",email_id)\n",
        "#     print(\"branch office:\",branch)\n",
        "\n",
        "# creating_acc_and_details()\n",
        "\n",
        "# depositing or withdraw  a amount\n",
        "def deposit_or_withdraw():\n",
        "    bal =0\n",
        "    global amt\n",
        "    amt = int(input(\"how much u want to deposit\"))\n",
        "    bal=bal+amt\n",
        "    print(\"balance is:\",bal)\n",
        "    amt = int(input(\"how much u want to withdraw\"))\n",
        "    trans_history.append(amt)\n",
        "    bal=bal-amt\n",
        "    print(\"balance is:\",bal)\n",
        "    #set min bal\n",
        "    if bal<1000:\n",
        "        deducted_amt = (bal*5)/100\n",
        "        print(\"due to non maintain bal of 1000 and 5% is deducted\",deducted_amt)\n",
        "    else:\n",
        "        print(\"balance is:\",bal)\n",
        "\n",
        "# top.mainloop()\n",
        "deposit_or_withdraw()\n",
        "print(\"history\",trans_history)"
      ]
    },
    {
      "cell_type": "code",
      "execution_count": null,
      "metadata": {
        "colab": {
          "base_uri": "https://localhost:8080/"
        },
        "id": "PPCNBDKj042U",
        "outputId": "7a2d4c97-6d19-4ce2-e005-88c35e3e9bbc"
      },
      "outputs": [
        {
          "name": "stdout",
          "output_type": "stream",
          "text": [
            "Welcome to HDFCS bank\n",
            "HDFCS100032\n",
            "bellary\n",
            "************************************************************\n",
            "Enter amount to be deposited: 2000\n",
            "Amount Deposited:  2000.0\n",
            "balnce present is 2000.0\n",
            "Enter amount to withdraw: 600\n",
            "You withdraw:  600.0\n",
            "available is: 1400.0\n"
          ]
        }
      ],
      "source": [
        "# with class\n",
        "class Bank_Account:\n",
        "    def __init__(self):\n",
        "        self.balance=0\n",
        "        print(\"Welcome to HDFCS bank\")\n",
        "        print(\"HDFCS100032\")\n",
        "        print(\"bellary\")\n",
        "        print(\"************************************************************\")\n",
        "\n",
        "    def profiles_summary(self):\n",
        "        account_num=int(random.randint(1000000,9999999))\n",
        "        custName=str(input(\"enter ur name \"))\n",
        "        email_id =input(\"enter ur email\")\n",
        "        mobile = int(input(\"enter ur mobile no\"))\n",
        "        self.account_num =account_num\n",
        "        self.custName=custName\n",
        "        self.email_id=email_id\n",
        "        self.mobile=mobile\n",
        "\n",
        "        print(\"********customer details are ************\")\n",
        "        print(\"customer name:\",custName)\n",
        "        print(\"acc no of customer:\",account_num)\n",
        "        print(\"mob no:\",mobile)\n",
        "        print(\" customer email is:\",email_id)\n",
        "        #print(\"IFSC:\",ifsc)\n",
        "\n",
        "\n",
        "\n",
        "    def deposit(self):\n",
        "        amount=float(input(\"Enter amount to be deposited: \"))\n",
        "        self.balance += amount\n",
        "        print(\"Amount Deposited: \",amount)\n",
        "        print(\"balnce present is\",self.balance)\n",
        "\n",
        "    def withdraw(self):\n",
        "        amount = float(input(\"Enter amount to withdraw: \"))\n",
        "        if self.balance>=amount:\n",
        "            self.balance-=amount\n",
        "\n",
        "            print(\"You withdraw: \",amount)\n",
        "            print(\"available is:\",self.balance)\n",
        "        else:\n",
        "            print(\"Insufficient balance \")\n",
        "\n",
        "s = Bank_Account()\n",
        "#s.profiles_summary()\n",
        "s.deposit()\n",
        "s.withdraw()"
      ]
    },
    {
      "cell_type": "markdown",
      "metadata": {
        "id": "nGr6rmN3roUS"
      },
      "source": [
        "# data science ...\n",
        "1) Linear Regression\n",
        "    a) Simple or single-variate linear regression is the simplest case of linear regression, as it has a single independent variable, 𝐱 = 𝑥.\n",
        "\n",
        "    b) Multiple Linear Regression\n",
        "Multiple or multivariate linear regression is a case of linear regression with two or more independent variables.\n",
        "\n",
        "\n",
        "\n",
        "2) Python Packages for Linear Regression\n",
        "NumPy , scikit-learn , statsmodel\n",
        "\n",
        "\n",
        "\n",
        "### **Simple Linear Regression With scikit-learn**\n",
        "You’ll start with the simplest case, which is simple linear regression. There are five basic steps when you’re implementing linear regression:\n",
        "\n",
        "1.Import the packages and classes that you need.\n",
        "\n",
        "2.Provide data to work with, and eventually do appropriate transformations.\n",
        "\n",
        "3.Create a regression model and fit it with existing data.\\\n",
        "\n",
        "4.Check the results of model fitting to know whether the model is satisfactory.\n",
        "\n",
        "5.Apply the model for predictions.\n",
        "\n"
      ]
    },
    {
      "cell_type": "markdown",
      "metadata": {
        "id": "UouCoud9ZD4z"
      },
      "source": [
        "Logistic regression :\n",
        "\n",
        " Logistic regression estimates the probability of event such as disease/ not , cancer /not , ( true / false ) with all dependent variavbles ."
      ]
    },
    {
      "cell_type": "markdown",
      "metadata": {
        "id": "Hi7k6gpFEPZu"
      },
      "source": [
        "kavya's practice note"
      ]
    },
    {
      "cell_type": "code",
      "execution_count": null,
      "metadata": {
        "colab": {
          "base_uri": "https://localhost:8080/",
          "height": 380
        },
        "id": "IOUrfOj7-UHl",
        "outputId": "4dcf084c-b535-441b-f4f6-7592e99a7062"
      },
      "outputs": [
        {
          "ename": "FileNotFoundError",
          "evalue": "ignored",
          "output_type": "error",
          "traceback": [
            "\u001b[0;31m---------------------------------------------------------------------------\u001b[0m",
            "\u001b[0;31mFileNotFoundError\u001b[0m                         Traceback (most recent call last)",
            "\u001b[0;32m<ipython-input-1-8a90b3531f01>\u001b[0m in \u001b[0;36m<cell line: 6>\u001b[0;34m()\u001b[0m\n\u001b[1;32m      4\u001b[0m \u001b[0;32mfrom\u001b[0m \u001b[0msklearn\u001b[0m \u001b[0;32mimport\u001b[0m \u001b[0mlinear_model\u001b[0m\u001b[0;34m\u001b[0m\u001b[0;34m\u001b[0m\u001b[0m\n\u001b[1;32m      5\u001b[0m \u001b[0;32mimport\u001b[0m \u001b[0mmatplotlib\u001b[0m\u001b[0;34m.\u001b[0m\u001b[0mpyplot\u001b[0m \u001b[0;32mas\u001b[0m \u001b[0mplt\u001b[0m\u001b[0;34m\u001b[0m\u001b[0;34m\u001b[0m\u001b[0m\n\u001b[0;32m----> 6\u001b[0;31m \u001b[0mdf\u001b[0m\u001b[0;34m=\u001b[0m\u001b[0mpd\u001b[0m\u001b[0;34m.\u001b[0m\u001b[0mread_csv\u001b[0m\u001b[0;34m(\u001b[0m\u001b[0;34m'/content/canada_per_capita_income (2).csv'\u001b[0m\u001b[0;34m)\u001b[0m\u001b[0;34m\u001b[0m\u001b[0;34m\u001b[0m\u001b[0m\n\u001b[0m\u001b[1;32m      7\u001b[0m \u001b[0mdf\u001b[0m\u001b[0;34m.\u001b[0m\u001b[0mrename\u001b[0m\u001b[0;34m(\u001b[0m\u001b[0mcolumns\u001b[0m\u001b[0;34m=\u001b[0m\u001b[0;34m{\u001b[0m\u001b[0;34m'per capita income (US$)'\u001b[0m\u001b[0;34m:\u001b[0m\u001b[0;34m'income'\u001b[0m\u001b[0;34m}\u001b[0m\u001b[0;34m,\u001b[0m\u001b[0minplace\u001b[0m\u001b[0;34m=\u001b[0m\u001b[0;32mTrue\u001b[0m\u001b[0;34m)\u001b[0m\u001b[0;34m\u001b[0m\u001b[0;34m\u001b[0m\u001b[0m\n\u001b[1;32m      8\u001b[0m \u001b[0mprint\u001b[0m\u001b[0;34m(\u001b[0m\u001b[0mdf\u001b[0m\u001b[0;34m)\u001b[0m\u001b[0;34m\u001b[0m\u001b[0;34m\u001b[0m\u001b[0m\n",
            "\u001b[0;32m/usr/local/lib/python3.10/dist-packages/pandas/util/_decorators.py\u001b[0m in \u001b[0;36mwrapper\u001b[0;34m(*args, **kwargs)\u001b[0m\n\u001b[1;32m    209\u001b[0m                 \u001b[0;32melse\u001b[0m\u001b[0;34m:\u001b[0m\u001b[0;34m\u001b[0m\u001b[0;34m\u001b[0m\u001b[0m\n\u001b[1;32m    210\u001b[0m                     \u001b[0mkwargs\u001b[0m\u001b[0;34m[\u001b[0m\u001b[0mnew_arg_name\u001b[0m\u001b[0;34m]\u001b[0m \u001b[0;34m=\u001b[0m \u001b[0mnew_arg_value\u001b[0m\u001b[0;34m\u001b[0m\u001b[0;34m\u001b[0m\u001b[0m\n\u001b[0;32m--> 211\u001b[0;31m             \u001b[0;32mreturn\u001b[0m \u001b[0mfunc\u001b[0m\u001b[0;34m(\u001b[0m\u001b[0;34m*\u001b[0m\u001b[0margs\u001b[0m\u001b[0;34m,\u001b[0m \u001b[0;34m**\u001b[0m\u001b[0mkwargs\u001b[0m\u001b[0;34m)\u001b[0m\u001b[0;34m\u001b[0m\u001b[0;34m\u001b[0m\u001b[0m\n\u001b[0m\u001b[1;32m    212\u001b[0m \u001b[0;34m\u001b[0m\u001b[0m\n\u001b[1;32m    213\u001b[0m         \u001b[0;32mreturn\u001b[0m \u001b[0mcast\u001b[0m\u001b[0;34m(\u001b[0m\u001b[0mF\u001b[0m\u001b[0;34m,\u001b[0m \u001b[0mwrapper\u001b[0m\u001b[0;34m)\u001b[0m\u001b[0;34m\u001b[0m\u001b[0;34m\u001b[0m\u001b[0m\n",
            "\u001b[0;32m/usr/local/lib/python3.10/dist-packages/pandas/util/_decorators.py\u001b[0m in \u001b[0;36mwrapper\u001b[0;34m(*args, **kwargs)\u001b[0m\n\u001b[1;32m    329\u001b[0m                     \u001b[0mstacklevel\u001b[0m\u001b[0;34m=\u001b[0m\u001b[0mfind_stack_level\u001b[0m\u001b[0;34m(\u001b[0m\u001b[0;34m)\u001b[0m\u001b[0;34m,\u001b[0m\u001b[0;34m\u001b[0m\u001b[0;34m\u001b[0m\u001b[0m\n\u001b[1;32m    330\u001b[0m                 )\n\u001b[0;32m--> 331\u001b[0;31m             \u001b[0;32mreturn\u001b[0m \u001b[0mfunc\u001b[0m\u001b[0;34m(\u001b[0m\u001b[0;34m*\u001b[0m\u001b[0margs\u001b[0m\u001b[0;34m,\u001b[0m \u001b[0;34m**\u001b[0m\u001b[0mkwargs\u001b[0m\u001b[0;34m)\u001b[0m\u001b[0;34m\u001b[0m\u001b[0;34m\u001b[0m\u001b[0m\n\u001b[0m\u001b[1;32m    332\u001b[0m \u001b[0;34m\u001b[0m\u001b[0m\n\u001b[1;32m    333\u001b[0m         \u001b[0;31m# error: \"Callable[[VarArg(Any), KwArg(Any)], Any]\" has no\u001b[0m\u001b[0;34m\u001b[0m\u001b[0;34m\u001b[0m\u001b[0m\n",
            "\u001b[0;32m/usr/local/lib/python3.10/dist-packages/pandas/io/parsers/readers.py\u001b[0m in \u001b[0;36mread_csv\u001b[0;34m(filepath_or_buffer, sep, delimiter, header, names, index_col, usecols, squeeze, prefix, mangle_dupe_cols, dtype, engine, converters, true_values, false_values, skipinitialspace, skiprows, skipfooter, nrows, na_values, keep_default_na, na_filter, verbose, skip_blank_lines, parse_dates, infer_datetime_format, keep_date_col, date_parser, dayfirst, cache_dates, iterator, chunksize, compression, thousands, decimal, lineterminator, quotechar, quoting, doublequote, escapechar, comment, encoding, encoding_errors, dialect, error_bad_lines, warn_bad_lines, on_bad_lines, delim_whitespace, low_memory, memory_map, float_precision, storage_options)\u001b[0m\n\u001b[1;32m    948\u001b[0m     \u001b[0mkwds\u001b[0m\u001b[0;34m.\u001b[0m\u001b[0mupdate\u001b[0m\u001b[0;34m(\u001b[0m\u001b[0mkwds_defaults\u001b[0m\u001b[0;34m)\u001b[0m\u001b[0;34m\u001b[0m\u001b[0;34m\u001b[0m\u001b[0m\n\u001b[1;32m    949\u001b[0m \u001b[0;34m\u001b[0m\u001b[0m\n\u001b[0;32m--> 950\u001b[0;31m     \u001b[0;32mreturn\u001b[0m \u001b[0m_read\u001b[0m\u001b[0;34m(\u001b[0m\u001b[0mfilepath_or_buffer\u001b[0m\u001b[0;34m,\u001b[0m \u001b[0mkwds\u001b[0m\u001b[0;34m)\u001b[0m\u001b[0;34m\u001b[0m\u001b[0;34m\u001b[0m\u001b[0m\n\u001b[0m\u001b[1;32m    951\u001b[0m \u001b[0;34m\u001b[0m\u001b[0m\n\u001b[1;32m    952\u001b[0m \u001b[0;34m\u001b[0m\u001b[0m\n",
            "\u001b[0;32m/usr/local/lib/python3.10/dist-packages/pandas/io/parsers/readers.py\u001b[0m in \u001b[0;36m_read\u001b[0;34m(filepath_or_buffer, kwds)\u001b[0m\n\u001b[1;32m    603\u001b[0m \u001b[0;34m\u001b[0m\u001b[0m\n\u001b[1;32m    604\u001b[0m     \u001b[0;31m# Create the parser.\u001b[0m\u001b[0;34m\u001b[0m\u001b[0;34m\u001b[0m\u001b[0m\n\u001b[0;32m--> 605\u001b[0;31m     \u001b[0mparser\u001b[0m \u001b[0;34m=\u001b[0m \u001b[0mTextFileReader\u001b[0m\u001b[0;34m(\u001b[0m\u001b[0mfilepath_or_buffer\u001b[0m\u001b[0;34m,\u001b[0m \u001b[0;34m**\u001b[0m\u001b[0mkwds\u001b[0m\u001b[0;34m)\u001b[0m\u001b[0;34m\u001b[0m\u001b[0;34m\u001b[0m\u001b[0m\n\u001b[0m\u001b[1;32m    606\u001b[0m \u001b[0;34m\u001b[0m\u001b[0m\n\u001b[1;32m    607\u001b[0m     \u001b[0;32mif\u001b[0m \u001b[0mchunksize\u001b[0m \u001b[0;32mor\u001b[0m \u001b[0miterator\u001b[0m\u001b[0;34m:\u001b[0m\u001b[0;34m\u001b[0m\u001b[0;34m\u001b[0m\u001b[0m\n",
            "\u001b[0;32m/usr/local/lib/python3.10/dist-packages/pandas/io/parsers/readers.py\u001b[0m in \u001b[0;36m__init__\u001b[0;34m(self, f, engine, **kwds)\u001b[0m\n\u001b[1;32m   1440\u001b[0m \u001b[0;34m\u001b[0m\u001b[0m\n\u001b[1;32m   1441\u001b[0m         \u001b[0mself\u001b[0m\u001b[0;34m.\u001b[0m\u001b[0mhandles\u001b[0m\u001b[0;34m:\u001b[0m \u001b[0mIOHandles\u001b[0m \u001b[0;34m|\u001b[0m \u001b[0;32mNone\u001b[0m \u001b[0;34m=\u001b[0m \u001b[0;32mNone\u001b[0m\u001b[0;34m\u001b[0m\u001b[0;34m\u001b[0m\u001b[0m\n\u001b[0;32m-> 1442\u001b[0;31m         \u001b[0mself\u001b[0m\u001b[0;34m.\u001b[0m\u001b[0m_engine\u001b[0m \u001b[0;34m=\u001b[0m \u001b[0mself\u001b[0m\u001b[0;34m.\u001b[0m\u001b[0m_make_engine\u001b[0m\u001b[0;34m(\u001b[0m\u001b[0mf\u001b[0m\u001b[0;34m,\u001b[0m \u001b[0mself\u001b[0m\u001b[0;34m.\u001b[0m\u001b[0mengine\u001b[0m\u001b[0;34m)\u001b[0m\u001b[0;34m\u001b[0m\u001b[0;34m\u001b[0m\u001b[0m\n\u001b[0m\u001b[1;32m   1443\u001b[0m \u001b[0;34m\u001b[0m\u001b[0m\n\u001b[1;32m   1444\u001b[0m     \u001b[0;32mdef\u001b[0m \u001b[0mclose\u001b[0m\u001b[0;34m(\u001b[0m\u001b[0mself\u001b[0m\u001b[0;34m)\u001b[0m \u001b[0;34m->\u001b[0m \u001b[0;32mNone\u001b[0m\u001b[0;34m:\u001b[0m\u001b[0;34m\u001b[0m\u001b[0;34m\u001b[0m\u001b[0m\n",
            "\u001b[0;32m/usr/local/lib/python3.10/dist-packages/pandas/io/parsers/readers.py\u001b[0m in \u001b[0;36m_make_engine\u001b[0;34m(self, f, engine)\u001b[0m\n\u001b[1;32m   1733\u001b[0m                 \u001b[0;32mif\u001b[0m \u001b[0;34m\"b\"\u001b[0m \u001b[0;32mnot\u001b[0m \u001b[0;32min\u001b[0m \u001b[0mmode\u001b[0m\u001b[0;34m:\u001b[0m\u001b[0;34m\u001b[0m\u001b[0;34m\u001b[0m\u001b[0m\n\u001b[1;32m   1734\u001b[0m                     \u001b[0mmode\u001b[0m \u001b[0;34m+=\u001b[0m \u001b[0;34m\"b\"\u001b[0m\u001b[0;34m\u001b[0m\u001b[0;34m\u001b[0m\u001b[0m\n\u001b[0;32m-> 1735\u001b[0;31m             self.handles = get_handle(\n\u001b[0m\u001b[1;32m   1736\u001b[0m                 \u001b[0mf\u001b[0m\u001b[0;34m,\u001b[0m\u001b[0;34m\u001b[0m\u001b[0;34m\u001b[0m\u001b[0m\n\u001b[1;32m   1737\u001b[0m                 \u001b[0mmode\u001b[0m\u001b[0;34m,\u001b[0m\u001b[0;34m\u001b[0m\u001b[0;34m\u001b[0m\u001b[0m\n",
            "\u001b[0;32m/usr/local/lib/python3.10/dist-packages/pandas/io/common.py\u001b[0m in \u001b[0;36mget_handle\u001b[0;34m(path_or_buf, mode, encoding, compression, memory_map, is_text, errors, storage_options)\u001b[0m\n\u001b[1;32m    854\u001b[0m         \u001b[0;32mif\u001b[0m \u001b[0mioargs\u001b[0m\u001b[0;34m.\u001b[0m\u001b[0mencoding\u001b[0m \u001b[0;32mand\u001b[0m \u001b[0;34m\"b\"\u001b[0m \u001b[0;32mnot\u001b[0m \u001b[0;32min\u001b[0m \u001b[0mioargs\u001b[0m\u001b[0;34m.\u001b[0m\u001b[0mmode\u001b[0m\u001b[0;34m:\u001b[0m\u001b[0;34m\u001b[0m\u001b[0;34m\u001b[0m\u001b[0m\n\u001b[1;32m    855\u001b[0m             \u001b[0;31m# Encoding\u001b[0m\u001b[0;34m\u001b[0m\u001b[0;34m\u001b[0m\u001b[0m\n\u001b[0;32m--> 856\u001b[0;31m             handle = open(\n\u001b[0m\u001b[1;32m    857\u001b[0m                 \u001b[0mhandle\u001b[0m\u001b[0;34m,\u001b[0m\u001b[0;34m\u001b[0m\u001b[0;34m\u001b[0m\u001b[0m\n\u001b[1;32m    858\u001b[0m                 \u001b[0mioargs\u001b[0m\u001b[0;34m.\u001b[0m\u001b[0mmode\u001b[0m\u001b[0;34m,\u001b[0m\u001b[0;34m\u001b[0m\u001b[0;34m\u001b[0m\u001b[0m\n",
            "\u001b[0;31mFileNotFoundError\u001b[0m: [Errno 2] No such file or directory: '/content/canada_per_capita_income (2).csv'"
          ]
        }
      ],
      "source": [
        "import pandas as pd\n",
        "import numpy as np\n",
        "import seaborn as bn\n",
        "from sklearn import linear_model\n",
        "import matplotlib.pyplot as plt\n",
        "df=pd.read_csv('/content/canada_per_capita_income (2).csv')\n",
        "df.rename(columns={'per capita income (US$)':'income'},inplace=True)\n",
        "print(df)\n",
        "plt.xlabel('year')\n",
        "plt.ylabel('income')\n",
        "plt.scatter(x=df.year,y=df.income)\n",
        "new_df=df.drop('income',axis='columns')\n",
        "new_year=df.drop('income',axis='columns')\n",
        "print(new_year)\n",
        "income=df.income\n",
        "print(income)\n",
        "mymodel=linear_model.LinearRegression()\n",
        "mymodel.fit(new_year,income)\n",
        "mymodel.predict([[2018]])\n",
        "\n"
      ]
    },
    {
      "cell_type": "code",
      "execution_count": null,
      "metadata": {
        "id": "7HuhlvgN5Wcj"
      },
      "outputs": [],
      "source": [
        "!pip install word2number"
      ]
    },
    {
      "cell_type": "code",
      "execution_count": null,
      "metadata": {
        "id": "fveOuHUXny0Y"
      },
      "outputs": [],
      "source": [
        "import pandas as pd\n",
        "import numpy as np\n",
        "import seaborn as bn\n",
        "from sklearn import linear_model\n",
        "import matplotlib.pyplot as plt\n",
        "df = pd.read_csv('/content/sample_data/homepricewith3Var.csv')\n",
        "print(df)\n",
        "#%matplotlib inline\n",
        "#plt.xlabel('area')\n",
        "#plt.ylabel('price')\n",
        "#bn.barplot(data=df,x=df.area,y=df.price)\n",
        "#new_df = df.drop('price',axis='columns')\n",
        "# new_area = df.drop('price',axis='columns')\n",
        "# print(new_area)\n",
        "# new_price=df.price\n",
        "# print(new_price)\n",
        "# # Create linear regression object\n",
        "# mymodel = linear_model.LinearRegression()\n",
        "# mymodel.fit(new_area,new_price)\n",
        "# mymodel.predict([[1200]])\n",
        "#y= m*x+b ( where m , b are co-eff, intercept respectively)\n"
      ]
    },
    {
      "cell_type": "markdown",
      "metadata": {
        "id": "px2sh9MLabre"
      },
      "source": [
        "**Multivariate/ multiple linear reg**\n",
        "\n",
        "Uses more than 1 idenpendednt features to predict"
      ]
    },
    {
      "cell_type": "code",
      "execution_count": null,
      "metadata": {
        "id": "BjuK3EtsJ5Oz"
      },
      "outputs": [],
      "source": [
        "import pandas as pd\n",
        "import numpy as np\n",
        "import seaborn as bn\n",
        "from sklearn import linear_model\n",
        "import matplotlib.pyplot as plt\n",
        "from word2number import w2n\n",
        "import math\n",
        "\n",
        "df = pd.read_csv('/content/hiring.csv')\n",
        "\n",
        "df.rename(columns={'salary($)':'salary'},inplace=True)\n",
        "df.rename(columns={'test_score(out of 10)':'test'},inplace=True)\n",
        "df.rename(columns={'interview_score(out of 10)':'interview'},inplace=True)\n",
        "\n",
        "df.experience=df.experience.fillna(\"zero\")\n",
        "df.experience=df.experience.apply(w2n.word_to_num)\n",
        "print(df)\n",
        "# median_val=round(df.test.median())\n",
        "median_val=math.floor(df.test.median())\n",
        "print(median_val)\n",
        "df.test=df.test.fillna(median_val)\n",
        "df\n",
        "print(df.corr())\n",
        "bn.heatmap(df.corr())\n",
        "# mymodel=linear_model.LinearRegression()\n",
        "# mymodel.fit(df[['experience','test','interview']],df.salary)\n",
        "# df\n",
        "# mymodel.predict([[12,10,10]])\n"
      ]
    },
    {
      "cell_type": "code",
      "execution_count": null,
      "metadata": {
        "id": "olzN_yAOHENt"
      },
      "outputs": [],
      "source": []
    },
    {
      "cell_type": "code",
      "execution_count": null,
      "metadata": {
        "id": "myYlV5XvHH9e"
      },
      "outputs": [],
      "source": [
        "import pandas as pd\n",
        "import numpy as np\n",
        "import seaborn as bn\n",
        "from sklearn import linear_model\n",
        "import matplotlib.pyplot as plt\n",
        "import math\n",
        "# from word2number import w2n\n",
        "# df = pd.read_csv('/content/loan_approval_dataset.csv')\n",
        "# print(df)\n",
        "\n",
        "# df.columns\n",
        "# df = df.rename(columns={' income_annum':'income'})\n",
        "\n",
        "# plt.scatter(df.age,df.broughtinsurance,maker=\"+\",color=\"red\")\n",
        "df = pd.read_csv('/content/insurance_data.csv')\n",
        "from sklearn.model_selection import train_test_split\n",
        "x_train,x_test,y_train,y_test = train_test_split(df[['age']],df.bought_insurance,train_size=0.8)\n",
        "x_test\n",
        "\n",
        "from sklearn.linear_model import LogisticRegression\n",
        "model = LogisticRegression()\n",
        "model.fit(x_train,y_train)\n",
        "x_test\n",
        "y_predicted = model.predict(x_test)\n",
        "model.predict_proba(x_test)\n",
        "print(y_predicted)\n",
        "print(x_test)\n",
        "model.score(x_test,y_test)"
      ]
    },
    {
      "cell_type": "code",
      "execution_count": null,
      "metadata": {
        "id": "w-W3zL0TaSoa"
      },
      "outputs": [],
      "source": [
        "import pandas as pd\n",
        "import numpy as np\n",
        "import seaborn as bn\n",
        "from sklearn import linear_model\n",
        "import matplotlib.pyplot as plt\n",
        "import math\n",
        "from word2number import w2n\n",
        "df = pd.read_csv('/content/sample_data/homepricewith3Var.csv')\n",
        "print(df)\n",
        "!pip install word2number\n",
        "# #data prep as 1 missing value present\n",
        "median_val=round(df.bedrooms.median())\n",
        "median_val2=math.floor(df.bedrooms.median())\n",
        "print(median_val2)\n",
        "\n",
        "# #fill this values to  null values present in bedrooms columns\n",
        "#df.fillna(median_val2) # in general\n",
        "df.bedrooms = df.bedrooms.fillna(median_val2) # in specific to column\n",
        "# df\n",
        "\n",
        "\n",
        "#plotting for 1 variable\n",
        "# plt.xlabel('area (sqfts)')\n",
        "# plt.ylabel('selling price of house')\n",
        "# plt.title(\"area vs price distrubutions chart\")\n",
        "# Area_Price_plot = plt.scatter(x=df.area, y=df.SalePrice)\n",
        "# print(Area_Price_plot)\n",
        "\n",
        "\n",
        "# # #calling the model and fitting the data inside of it\n",
        "mymodel = linear_model.LinearRegression()\n",
        "mymodel.fit(df[['area','bedrooms','age']],df.SalePrice)\n",
        "\n",
        "\n",
        "# #get co-eff and intercept\n",
        "\n",
        "print(mymodel.coef_)\n",
        "print(mymodel.intercept_)\n",
        "# #cross check wth eqn : y=mx+b\n",
        "\n",
        "\n",
        "mymodel.predict([[2400,3,60]])\n",
        "\n",
        "\n",
        "# hiring data test\n",
        "#https://github.com/codebasics/py/blob/master/ML/2_linear_reg_multivariate/Exercise/hiring.csv"
      ]
    },
    {
      "cell_type": "code",
      "execution_count": null,
      "metadata": {
        "id": "yCDkBRElcwY3"
      },
      "outputs": [],
      "source": [
        "import pandas as pd\n",
        "import numpy as np\n",
        "import seaborn as bn\n",
        "from sklearn import linear_model\n",
        "from sklearn.datasets import load_digits\n",
        "import matplotlib.pyplot as plt\n",
        "import math\n",
        "mydata = load_digits()\n",
        "print(mydata)\n",
        "\n",
        "\n"
      ]
    },
    {
      "cell_type": "markdown",
      "metadata": {
        "id": "i_st7E1UIfis"
      },
      "source": [
        "# 3. Descsion Tree as a classifier\n",
        "\n",
        "Decision Tree algorithm belongs to the family of supervised learning algorithms. Unlike other supervised learning algorithms, the decision tree algorithm can be used for solving regression and classification problems too\n",
        "\n",
        "example :\n",
        "\n",
        "https://machine-learning-and-data-science-with-python.readthedocs.io/en/latest/_images/yes_no_dt.png\n",
        "\n"
      ]
    },
    {
      "cell_type": "code",
      "execution_count": null,
      "metadata": {
        "id": "GesL05BhJXUE"
      },
      "outputs": [],
      "source": [
        "import pandas as pd\n",
        "import numpy as np\n",
        "import seaborn as bn\n",
        "\n",
        "import matplotlib.pyplot as plt\n",
        "import math\n",
        "#https://github.com/codebasics/py/blob/master/ML/9_decision_tree/salaries.csv\n",
        "#used to label encoding process\n",
        "from sklearn.preprocessing import LabelEncoder\n",
        "data = pd.read_csv(\"/content/sample_data/salaries.csv\")\n",
        "data.head()\n",
        "# for making only feature columns except target column\n",
        "inputs = data.drop('salary_more_then_100k',axis='columns')\n",
        "# target colum\n",
        "target =data['salary_more_then_100k']\n",
        "\n",
        "# le_company = LabelEncoder()\n",
        "# le_job = LabelEncoder()\n",
        "# le_degree = LabelEncoder()\n",
        "\n",
        "# inputs['company_n'] = le_company.fit_transform(inputs['company'])\n",
        "# inputs['job_n'] = le_job.fit_transform(inputs['job'])\n",
        "# inputs['degree_n'] = le_degree.fit_transform(inputs['degree'])\n",
        "# view data\n",
        "# inputs\n",
        "\n",
        "\n",
        "# # new data with new pre-preocessed columns, we transformed this to new to make\n",
        "# #  our model understand better interms of no's\n",
        "# inputs_n = inputs.drop(['company','job','degree'],axis='columns')\n",
        "# # inputs_n\n",
        "\n",
        "\n",
        "# #call the model and fit data\n",
        "# from sklearn import tree\n",
        "# model = tree.DecisionTreeClassifier()\n",
        "\n",
        "# model.fit(inputs_n, target)\n",
        "#check the score\n",
        "# model.score(inputs_n,target)\n",
        "\n",
        "# check >> Is salary of Google, Computer Engineer,with  Bachelors degree is having more than 100k sal or not\n",
        "\n",
        "# model.predict([[2,1,1]])"
      ]
    },
    {
      "cell_type": "markdown",
      "metadata": {
        "id": "KEse5WkBQ-oO"
      },
      "source": [
        "Test:\n",
        "https://github.com/codebasics/py/blob/master/ML/9_decision_tree/Exercise/titanic.csv\n",
        "\n",
        "# In this file using following columns build a model to predict if person would survive or not,\n",
        "\n",
        "Pclass\n",
        "\n",
        "Sex\n",
        "\n",
        "Age\n",
        "\n",
        "Fare\n",
        "\n",
        "Calculate score of your model"
      ]
    },
    {
      "cell_type": "code",
      "execution_count": null,
      "metadata": {
        "colab": {
          "base_uri": "https://localhost:8080/"
        },
        "id": "wPkPqcI2RJjx",
        "outputId": "9dd8bf08-f87e-4394-e311-12b24e6112ea"
      },
      "outputs": [
        {
          "name": "stderr",
          "output_type": "stream",
          "text": [
            "/usr/local/lib/python3.10/dist-packages/sklearn/base.py:439: UserWarning: X does not have valid feature names, but DecisionTreeClassifier was fitted with feature names\n",
            "  warnings.warn(\n"
          ]
        },
        {
          "data": {
            "text/plain": [
              "array([1])"
            ]
          },
          "execution_count": 63,
          "metadata": {},
          "output_type": "execute_result"
        }
      ],
      "source": [
        "import pandas as pd\n",
        "import numpy as np\n",
        "import seaborn as bn\n",
        "import matplotlib.pyplot as plt\n",
        "import math\n",
        "#https://github.com/codebasics/py/blob/master/ML/9_decision_tree/salaries.csv\n",
        "#used to label encoding process\n",
        "from sklearn.preprocessing import LabelEncoder\n",
        "data = pd.read_csv(\"/content/sample_data/salaries.csv\")\n",
        "data.head()\n",
        "inputs = data.drop('salary_more_then_100k',axis='columns')\n",
        "output = data['salary_more_then_100k']\n",
        "le_company = LabelEncoder()\n",
        "le_job = LabelEncoder()\n",
        "le_degree = LabelEncoder()\n",
        "\n",
        "\n",
        "inputs['company_n'] = le_company.fit_transform(inputs['company'])\n",
        "inputs['job_n'] = le_job.fit_transform(inputs['job'])\n",
        "inputs['degree_n'] = le_degree.fit_transform(inputs['degree'])\n",
        "\n",
        "\n",
        "new_inputs=inputs.drop(['company','job','degree'],axis='columns')\n",
        "new_inputs\n",
        "\n",
        "from sklearn import tree\n",
        "model = tree.DecisionTreeClassifier()\n",
        "model.fit(new_inputs, output)\n",
        "model.predict([[2,1,1]])\n",
        "# model.score(new_inputs,output)\n",
        "\n",
        "# heart attack dataset\n",
        " #https://www.kaggle.com/datasets/bharath011/heart-disease-classification-dataset/code"
      ]
    },
    {
      "cell_type": "code",
      "execution_count": null,
      "metadata": {
        "colab": {
          "base_uri": "https://localhost:8080/",
          "height": 380
        },
        "id": "0YWq9aolYqDE",
        "outputId": "a3800e1e-2490-44e9-c6d8-888a962e44ca"
      },
      "outputs": [
        {
          "output_type": "error",
          "ename": "FileNotFoundError",
          "evalue": "ignored",
          "traceback": [
            "\u001b[0;31m---------------------------------------------------------------------------\u001b[0m",
            "\u001b[0;31mFileNotFoundError\u001b[0m                         Traceback (most recent call last)",
            "\u001b[0;32m<ipython-input-1-1bc727627091>\u001b[0m in \u001b[0;36m<cell line: 6>\u001b[0;34m()\u001b[0m\n\u001b[1;32m      4\u001b[0m \u001b[0;32mimport\u001b[0m \u001b[0mmatplotlib\u001b[0m\u001b[0;34m.\u001b[0m\u001b[0mpyplot\u001b[0m \u001b[0;32mas\u001b[0m \u001b[0mplt\u001b[0m\u001b[0;34m\u001b[0m\u001b[0;34m\u001b[0m\u001b[0m\n\u001b[1;32m      5\u001b[0m \u001b[0;32mimport\u001b[0m \u001b[0mmath\u001b[0m\u001b[0;34m\u001b[0m\u001b[0;34m\u001b[0m\u001b[0m\n\u001b[0;32m----> 6\u001b[0;31m \u001b[0mdf\u001b[0m\u001b[0;34m=\u001b[0m\u001b[0mpd\u001b[0m\u001b[0;34m.\u001b[0m\u001b[0mread_csv\u001b[0m\u001b[0;34m(\u001b[0m\u001b[0;34m'/content/sample_data/Heart Attack.csv'\u001b[0m\u001b[0;34m)\u001b[0m\u001b[0;34m\u001b[0m\u001b[0;34m\u001b[0m\u001b[0m\n\u001b[0m\u001b[1;32m      7\u001b[0m \u001b[0;34m\u001b[0m\u001b[0m\n\u001b[1;32m      8\u001b[0m \u001b[0mdf\u001b[0m\u001b[0;34m.\u001b[0m\u001b[0mhead\u001b[0m\u001b[0;34m(\u001b[0m\u001b[0;34m)\u001b[0m\u001b[0;34m\u001b[0m\u001b[0;34m\u001b[0m\u001b[0m\n",
            "\u001b[0;32m/usr/local/lib/python3.10/dist-packages/pandas/util/_decorators.py\u001b[0m in \u001b[0;36mwrapper\u001b[0;34m(*args, **kwargs)\u001b[0m\n\u001b[1;32m    209\u001b[0m                 \u001b[0;32melse\u001b[0m\u001b[0;34m:\u001b[0m\u001b[0;34m\u001b[0m\u001b[0;34m\u001b[0m\u001b[0m\n\u001b[1;32m    210\u001b[0m                     \u001b[0mkwargs\u001b[0m\u001b[0;34m[\u001b[0m\u001b[0mnew_arg_name\u001b[0m\u001b[0;34m]\u001b[0m \u001b[0;34m=\u001b[0m \u001b[0mnew_arg_value\u001b[0m\u001b[0;34m\u001b[0m\u001b[0;34m\u001b[0m\u001b[0m\n\u001b[0;32m--> 211\u001b[0;31m             \u001b[0;32mreturn\u001b[0m \u001b[0mfunc\u001b[0m\u001b[0;34m(\u001b[0m\u001b[0;34m*\u001b[0m\u001b[0margs\u001b[0m\u001b[0;34m,\u001b[0m \u001b[0;34m**\u001b[0m\u001b[0mkwargs\u001b[0m\u001b[0;34m)\u001b[0m\u001b[0;34m\u001b[0m\u001b[0;34m\u001b[0m\u001b[0m\n\u001b[0m\u001b[1;32m    212\u001b[0m \u001b[0;34m\u001b[0m\u001b[0m\n\u001b[1;32m    213\u001b[0m         \u001b[0;32mreturn\u001b[0m \u001b[0mcast\u001b[0m\u001b[0;34m(\u001b[0m\u001b[0mF\u001b[0m\u001b[0;34m,\u001b[0m \u001b[0mwrapper\u001b[0m\u001b[0;34m)\u001b[0m\u001b[0;34m\u001b[0m\u001b[0;34m\u001b[0m\u001b[0m\n",
            "\u001b[0;32m/usr/local/lib/python3.10/dist-packages/pandas/util/_decorators.py\u001b[0m in \u001b[0;36mwrapper\u001b[0;34m(*args, **kwargs)\u001b[0m\n\u001b[1;32m    329\u001b[0m                     \u001b[0mstacklevel\u001b[0m\u001b[0;34m=\u001b[0m\u001b[0mfind_stack_level\u001b[0m\u001b[0;34m(\u001b[0m\u001b[0;34m)\u001b[0m\u001b[0;34m,\u001b[0m\u001b[0;34m\u001b[0m\u001b[0;34m\u001b[0m\u001b[0m\n\u001b[1;32m    330\u001b[0m                 )\n\u001b[0;32m--> 331\u001b[0;31m             \u001b[0;32mreturn\u001b[0m \u001b[0mfunc\u001b[0m\u001b[0;34m(\u001b[0m\u001b[0;34m*\u001b[0m\u001b[0margs\u001b[0m\u001b[0;34m,\u001b[0m \u001b[0;34m**\u001b[0m\u001b[0mkwargs\u001b[0m\u001b[0;34m)\u001b[0m\u001b[0;34m\u001b[0m\u001b[0;34m\u001b[0m\u001b[0m\n\u001b[0m\u001b[1;32m    332\u001b[0m \u001b[0;34m\u001b[0m\u001b[0m\n\u001b[1;32m    333\u001b[0m         \u001b[0;31m# error: \"Callable[[VarArg(Any), KwArg(Any)], Any]\" has no\u001b[0m\u001b[0;34m\u001b[0m\u001b[0;34m\u001b[0m\u001b[0m\n",
            "\u001b[0;32m/usr/local/lib/python3.10/dist-packages/pandas/io/parsers/readers.py\u001b[0m in \u001b[0;36mread_csv\u001b[0;34m(filepath_or_buffer, sep, delimiter, header, names, index_col, usecols, squeeze, prefix, mangle_dupe_cols, dtype, engine, converters, true_values, false_values, skipinitialspace, skiprows, skipfooter, nrows, na_values, keep_default_na, na_filter, verbose, skip_blank_lines, parse_dates, infer_datetime_format, keep_date_col, date_parser, dayfirst, cache_dates, iterator, chunksize, compression, thousands, decimal, lineterminator, quotechar, quoting, doublequote, escapechar, comment, encoding, encoding_errors, dialect, error_bad_lines, warn_bad_lines, on_bad_lines, delim_whitespace, low_memory, memory_map, float_precision, storage_options)\u001b[0m\n\u001b[1;32m    948\u001b[0m     \u001b[0mkwds\u001b[0m\u001b[0;34m.\u001b[0m\u001b[0mupdate\u001b[0m\u001b[0;34m(\u001b[0m\u001b[0mkwds_defaults\u001b[0m\u001b[0;34m)\u001b[0m\u001b[0;34m\u001b[0m\u001b[0;34m\u001b[0m\u001b[0m\n\u001b[1;32m    949\u001b[0m \u001b[0;34m\u001b[0m\u001b[0m\n\u001b[0;32m--> 950\u001b[0;31m     \u001b[0;32mreturn\u001b[0m \u001b[0m_read\u001b[0m\u001b[0;34m(\u001b[0m\u001b[0mfilepath_or_buffer\u001b[0m\u001b[0;34m,\u001b[0m \u001b[0mkwds\u001b[0m\u001b[0;34m)\u001b[0m\u001b[0;34m\u001b[0m\u001b[0;34m\u001b[0m\u001b[0m\n\u001b[0m\u001b[1;32m    951\u001b[0m \u001b[0;34m\u001b[0m\u001b[0m\n\u001b[1;32m    952\u001b[0m \u001b[0;34m\u001b[0m\u001b[0m\n",
            "\u001b[0;32m/usr/local/lib/python3.10/dist-packages/pandas/io/parsers/readers.py\u001b[0m in \u001b[0;36m_read\u001b[0;34m(filepath_or_buffer, kwds)\u001b[0m\n\u001b[1;32m    603\u001b[0m \u001b[0;34m\u001b[0m\u001b[0m\n\u001b[1;32m    604\u001b[0m     \u001b[0;31m# Create the parser.\u001b[0m\u001b[0;34m\u001b[0m\u001b[0;34m\u001b[0m\u001b[0m\n\u001b[0;32m--> 605\u001b[0;31m     \u001b[0mparser\u001b[0m \u001b[0;34m=\u001b[0m \u001b[0mTextFileReader\u001b[0m\u001b[0;34m(\u001b[0m\u001b[0mfilepath_or_buffer\u001b[0m\u001b[0;34m,\u001b[0m \u001b[0;34m**\u001b[0m\u001b[0mkwds\u001b[0m\u001b[0;34m)\u001b[0m\u001b[0;34m\u001b[0m\u001b[0;34m\u001b[0m\u001b[0m\n\u001b[0m\u001b[1;32m    606\u001b[0m \u001b[0;34m\u001b[0m\u001b[0m\n\u001b[1;32m    607\u001b[0m     \u001b[0;32mif\u001b[0m \u001b[0mchunksize\u001b[0m \u001b[0;32mor\u001b[0m \u001b[0miterator\u001b[0m\u001b[0;34m:\u001b[0m\u001b[0;34m\u001b[0m\u001b[0;34m\u001b[0m\u001b[0m\n",
            "\u001b[0;32m/usr/local/lib/python3.10/dist-packages/pandas/io/parsers/readers.py\u001b[0m in \u001b[0;36m__init__\u001b[0;34m(self, f, engine, **kwds)\u001b[0m\n\u001b[1;32m   1440\u001b[0m \u001b[0;34m\u001b[0m\u001b[0m\n\u001b[1;32m   1441\u001b[0m         \u001b[0mself\u001b[0m\u001b[0;34m.\u001b[0m\u001b[0mhandles\u001b[0m\u001b[0;34m:\u001b[0m \u001b[0mIOHandles\u001b[0m \u001b[0;34m|\u001b[0m \u001b[0;32mNone\u001b[0m \u001b[0;34m=\u001b[0m \u001b[0;32mNone\u001b[0m\u001b[0;34m\u001b[0m\u001b[0;34m\u001b[0m\u001b[0m\n\u001b[0;32m-> 1442\u001b[0;31m         \u001b[0mself\u001b[0m\u001b[0;34m.\u001b[0m\u001b[0m_engine\u001b[0m \u001b[0;34m=\u001b[0m \u001b[0mself\u001b[0m\u001b[0;34m.\u001b[0m\u001b[0m_make_engine\u001b[0m\u001b[0;34m(\u001b[0m\u001b[0mf\u001b[0m\u001b[0;34m,\u001b[0m \u001b[0mself\u001b[0m\u001b[0;34m.\u001b[0m\u001b[0mengine\u001b[0m\u001b[0;34m)\u001b[0m\u001b[0;34m\u001b[0m\u001b[0;34m\u001b[0m\u001b[0m\n\u001b[0m\u001b[1;32m   1443\u001b[0m \u001b[0;34m\u001b[0m\u001b[0m\n\u001b[1;32m   1444\u001b[0m     \u001b[0;32mdef\u001b[0m \u001b[0mclose\u001b[0m\u001b[0;34m(\u001b[0m\u001b[0mself\u001b[0m\u001b[0;34m)\u001b[0m \u001b[0;34m->\u001b[0m \u001b[0;32mNone\u001b[0m\u001b[0;34m:\u001b[0m\u001b[0;34m\u001b[0m\u001b[0;34m\u001b[0m\u001b[0m\n",
            "\u001b[0;32m/usr/local/lib/python3.10/dist-packages/pandas/io/parsers/readers.py\u001b[0m in \u001b[0;36m_make_engine\u001b[0;34m(self, f, engine)\u001b[0m\n\u001b[1;32m   1733\u001b[0m                 \u001b[0;32mif\u001b[0m \u001b[0;34m\"b\"\u001b[0m \u001b[0;32mnot\u001b[0m \u001b[0;32min\u001b[0m \u001b[0mmode\u001b[0m\u001b[0;34m:\u001b[0m\u001b[0;34m\u001b[0m\u001b[0;34m\u001b[0m\u001b[0m\n\u001b[1;32m   1734\u001b[0m                     \u001b[0mmode\u001b[0m \u001b[0;34m+=\u001b[0m \u001b[0;34m\"b\"\u001b[0m\u001b[0;34m\u001b[0m\u001b[0;34m\u001b[0m\u001b[0m\n\u001b[0;32m-> 1735\u001b[0;31m             self.handles = get_handle(\n\u001b[0m\u001b[1;32m   1736\u001b[0m                 \u001b[0mf\u001b[0m\u001b[0;34m,\u001b[0m\u001b[0;34m\u001b[0m\u001b[0;34m\u001b[0m\u001b[0m\n\u001b[1;32m   1737\u001b[0m                 \u001b[0mmode\u001b[0m\u001b[0;34m,\u001b[0m\u001b[0;34m\u001b[0m\u001b[0;34m\u001b[0m\u001b[0m\n",
            "\u001b[0;32m/usr/local/lib/python3.10/dist-packages/pandas/io/common.py\u001b[0m in \u001b[0;36mget_handle\u001b[0;34m(path_or_buf, mode, encoding, compression, memory_map, is_text, errors, storage_options)\u001b[0m\n\u001b[1;32m    854\u001b[0m         \u001b[0;32mif\u001b[0m \u001b[0mioargs\u001b[0m\u001b[0;34m.\u001b[0m\u001b[0mencoding\u001b[0m \u001b[0;32mand\u001b[0m \u001b[0;34m\"b\"\u001b[0m \u001b[0;32mnot\u001b[0m \u001b[0;32min\u001b[0m \u001b[0mioargs\u001b[0m\u001b[0;34m.\u001b[0m\u001b[0mmode\u001b[0m\u001b[0;34m:\u001b[0m\u001b[0;34m\u001b[0m\u001b[0;34m\u001b[0m\u001b[0m\n\u001b[1;32m    855\u001b[0m             \u001b[0;31m# Encoding\u001b[0m\u001b[0;34m\u001b[0m\u001b[0;34m\u001b[0m\u001b[0m\n\u001b[0;32m--> 856\u001b[0;31m             handle = open(\n\u001b[0m\u001b[1;32m    857\u001b[0m                 \u001b[0mhandle\u001b[0m\u001b[0;34m,\u001b[0m\u001b[0;34m\u001b[0m\u001b[0;34m\u001b[0m\u001b[0m\n\u001b[1;32m    858\u001b[0m                 \u001b[0mioargs\u001b[0m\u001b[0;34m.\u001b[0m\u001b[0mmode\u001b[0m\u001b[0;34m,\u001b[0m\u001b[0;34m\u001b[0m\u001b[0;34m\u001b[0m\u001b[0m\n",
            "\u001b[0;31mFileNotFoundError\u001b[0m: [Errno 2] No such file or directory: '/content/sample_data/Heart Attack.csv'"
          ]
        }
      ],
      "source": [
        "\n",
        "import pandas as pd\n",
        "import numpy as np\n",
        "import seaborn as bn\n",
        "import matplotlib.pyplot as plt\n",
        "import math\n",
        "df=pd.read_csv('/content/sample_data/Heart Attack.csv')\n",
        "\n",
        "df.head()\n",
        "\n"
      ]
    },
    {
      "cell_type": "markdown",
      "source": [
        "### SVM -support vector\n",
        "\n",
        "SVM is a powerful supervised algorithm that works best on smaller datasets but on complex ones. Support Vector Machine, abbreviated as SVM can be used for both regression and classification tasks, but generally, they work best in classification problems.\n",
        "\n",
        "\n",
        "EX:\n",
        "\n",
        "handwriting recognition,\n",
        "\n",
        "intrusion detection,\n",
        "\n",
        "face detection,\n",
        "\n",
        " email classification,\n",
        "\n",
        " gene classification,\n",
        "\n",
        "\n",
        "\n"
      ],
      "metadata": {
        "id": "nVBBmB2FaE8E"
      }
    },
    {
      "cell_type": "code",
      "source": [
        "import pandas as pd\n",
        "from sklearn.datasets import load_iris\n",
        "import matplotlib.pyplot as plt\n",
        "iris = load_iris()\n",
        "# print(iris)\n",
        "# print(iris.feature_names)\n",
        "# print(iris.target_names)\n",
        "\n",
        "# make this data into dataframe\n",
        "\n",
        "df = pd.DataFrame(iris.data,columns=iris.feature_names)\n",
        "# df.head()\n",
        "\n",
        "df['target'] = iris.target\n",
        "# df.head()\n",
        "\n",
        "# df[df.target==2] # check no of 2 's\n",
        "df['flower_name'] =df.target.apply(lambda x: iris.target_names[x])\n",
        "# print(df.describe())\n",
        "# print(df)\n",
        "# make 3 clusters /partition\n",
        "\n",
        "# df0 = df[:50]\n",
        "# df1 = df[50:100]\n",
        "# df2 = df[100:]\n",
        "\n",
        "# plt.xlabel('Sepal Length')\n",
        "# plt.ylabel('Sepal Width')\n",
        "# plt.scatter(df0['sepal length (cm)'], df0['sepal width (cm)'],color=\"green\",marker='+')\n",
        "# plt.scatter(df1['sepal length (cm)'], df1['sepal width (cm)'],color=\"blue\",marker='.')\n",
        "# plt.scatter(df2['sepal length (cm)'], df1['sepal width (cm)'],color=\"red\",marker='*')\n",
        "\n",
        "from sklearn.model_selection import train_test_split\n",
        "X = df.drop(['target','flower_name'], axis='columns')\n",
        "y = df.target\n",
        "\n",
        "X_train, X_test, y_train, y_test = train_test_split(X, y, test_size=0.2)\n",
        "\n",
        "from sklearn.svm import SVC\n",
        "model = SVC()\n",
        "\n",
        "model.fit(X_train, y_train)\n",
        "model.score(X_test, y_test)\n",
        "model.predict([[5,4.5,1.5,0.6]])\n",
        "\n",
        "## tuning operations to make better model accuracy using C, gamma, kernel val\n",
        "# Regularization (C)\n",
        "\n",
        "model_C = SVC(C=1)\n",
        "model_C.fit(X_train, y_train)\n"
      ],
      "metadata": {
        "colab": {
          "base_uri": "https://localhost:8080/",
          "height": 1000
        },
        "id": "fkpeLdRIaDd5",
        "outputId": "05cdbddd-1ecc-403f-ca2f-93b9c385722d"
      },
      "execution_count": null,
      "outputs": [
        {
          "output_type": "stream",
          "name": "stdout",
          "text": [
            "{'data': array([[5.1, 3.5, 1.4, 0.2],\n",
            "       [4.9, 3. , 1.4, 0.2],\n",
            "       [4.7, 3.2, 1.3, 0.2],\n",
            "       [4.6, 3.1, 1.5, 0.2],\n",
            "       [5. , 3.6, 1.4, 0.2],\n",
            "       [5.4, 3.9, 1.7, 0.4],\n",
            "       [4.6, 3.4, 1.4, 0.3],\n",
            "       [5. , 3.4, 1.5, 0.2],\n",
            "       [4.4, 2.9, 1.4, 0.2],\n",
            "       [4.9, 3.1, 1.5, 0.1],\n",
            "       [5.4, 3.7, 1.5, 0.2],\n",
            "       [4.8, 3.4, 1.6, 0.2],\n",
            "       [4.8, 3. , 1.4, 0.1],\n",
            "       [4.3, 3. , 1.1, 0.1],\n",
            "       [5.8, 4. , 1.2, 0.2],\n",
            "       [5.7, 4.4, 1.5, 0.4],\n",
            "       [5.4, 3.9, 1.3, 0.4],\n",
            "       [5.1, 3.5, 1.4, 0.3],\n",
            "       [5.7, 3.8, 1.7, 0.3],\n",
            "       [5.1, 3.8, 1.5, 0.3],\n",
            "       [5.4, 3.4, 1.7, 0.2],\n",
            "       [5.1, 3.7, 1.5, 0.4],\n",
            "       [4.6, 3.6, 1. , 0.2],\n",
            "       [5.1, 3.3, 1.7, 0.5],\n",
            "       [4.8, 3.4, 1.9, 0.2],\n",
            "       [5. , 3. , 1.6, 0.2],\n",
            "       [5. , 3.4, 1.6, 0.4],\n",
            "       [5.2, 3.5, 1.5, 0.2],\n",
            "       [5.2, 3.4, 1.4, 0.2],\n",
            "       [4.7, 3.2, 1.6, 0.2],\n",
            "       [4.8, 3.1, 1.6, 0.2],\n",
            "       [5.4, 3.4, 1.5, 0.4],\n",
            "       [5.2, 4.1, 1.5, 0.1],\n",
            "       [5.5, 4.2, 1.4, 0.2],\n",
            "       [4.9, 3.1, 1.5, 0.2],\n",
            "       [5. , 3.2, 1.2, 0.2],\n",
            "       [5.5, 3.5, 1.3, 0.2],\n",
            "       [4.9, 3.6, 1.4, 0.1],\n",
            "       [4.4, 3. , 1.3, 0.2],\n",
            "       [5.1, 3.4, 1.5, 0.2],\n",
            "       [5. , 3.5, 1.3, 0.3],\n",
            "       [4.5, 2.3, 1.3, 0.3],\n",
            "       [4.4, 3.2, 1.3, 0.2],\n",
            "       [5. , 3.5, 1.6, 0.6],\n",
            "       [5.1, 3.8, 1.9, 0.4],\n",
            "       [4.8, 3. , 1.4, 0.3],\n",
            "       [5.1, 3.8, 1.6, 0.2],\n",
            "       [4.6, 3.2, 1.4, 0.2],\n",
            "       [5.3, 3.7, 1.5, 0.2],\n",
            "       [5. , 3.3, 1.4, 0.2],\n",
            "       [7. , 3.2, 4.7, 1.4],\n",
            "       [6.4, 3.2, 4.5, 1.5],\n",
            "       [6.9, 3.1, 4.9, 1.5],\n",
            "       [5.5, 2.3, 4. , 1.3],\n",
            "       [6.5, 2.8, 4.6, 1.5],\n",
            "       [5.7, 2.8, 4.5, 1.3],\n",
            "       [6.3, 3.3, 4.7, 1.6],\n",
            "       [4.9, 2.4, 3.3, 1. ],\n",
            "       [6.6, 2.9, 4.6, 1.3],\n",
            "       [5.2, 2.7, 3.9, 1.4],\n",
            "       [5. , 2. , 3.5, 1. ],\n",
            "       [5.9, 3. , 4.2, 1.5],\n",
            "       [6. , 2.2, 4. , 1. ],\n",
            "       [6.1, 2.9, 4.7, 1.4],\n",
            "       [5.6, 2.9, 3.6, 1.3],\n",
            "       [6.7, 3.1, 4.4, 1.4],\n",
            "       [5.6, 3. , 4.5, 1.5],\n",
            "       [5.8, 2.7, 4.1, 1. ],\n",
            "       [6.2, 2.2, 4.5, 1.5],\n",
            "       [5.6, 2.5, 3.9, 1.1],\n",
            "       [5.9, 3.2, 4.8, 1.8],\n",
            "       [6.1, 2.8, 4. , 1.3],\n",
            "       [6.3, 2.5, 4.9, 1.5],\n",
            "       [6.1, 2.8, 4.7, 1.2],\n",
            "       [6.4, 2.9, 4.3, 1.3],\n",
            "       [6.6, 3. , 4.4, 1.4],\n",
            "       [6.8, 2.8, 4.8, 1.4],\n",
            "       [6.7, 3. , 5. , 1.7],\n",
            "       [6. , 2.9, 4.5, 1.5],\n",
            "       [5.7, 2.6, 3.5, 1. ],\n",
            "       [5.5, 2.4, 3.8, 1.1],\n",
            "       [5.5, 2.4, 3.7, 1. ],\n",
            "       [5.8, 2.7, 3.9, 1.2],\n",
            "       [6. , 2.7, 5.1, 1.6],\n",
            "       [5.4, 3. , 4.5, 1.5],\n",
            "       [6. , 3.4, 4.5, 1.6],\n",
            "       [6.7, 3.1, 4.7, 1.5],\n",
            "       [6.3, 2.3, 4.4, 1.3],\n",
            "       [5.6, 3. , 4.1, 1.3],\n",
            "       [5.5, 2.5, 4. , 1.3],\n",
            "       [5.5, 2.6, 4.4, 1.2],\n",
            "       [6.1, 3. , 4.6, 1.4],\n",
            "       [5.8, 2.6, 4. , 1.2],\n",
            "       [5. , 2.3, 3.3, 1. ],\n",
            "       [5.6, 2.7, 4.2, 1.3],\n",
            "       [5.7, 3. , 4.2, 1.2],\n",
            "       [5.7, 2.9, 4.2, 1.3],\n",
            "       [6.2, 2.9, 4.3, 1.3],\n",
            "       [5.1, 2.5, 3. , 1.1],\n",
            "       [5.7, 2.8, 4.1, 1.3],\n",
            "       [6.3, 3.3, 6. , 2.5],\n",
            "       [5.8, 2.7, 5.1, 1.9],\n",
            "       [7.1, 3. , 5.9, 2.1],\n",
            "       [6.3, 2.9, 5.6, 1.8],\n",
            "       [6.5, 3. , 5.8, 2.2],\n",
            "       [7.6, 3. , 6.6, 2.1],\n",
            "       [4.9, 2.5, 4.5, 1.7],\n",
            "       [7.3, 2.9, 6.3, 1.8],\n",
            "       [6.7, 2.5, 5.8, 1.8],\n",
            "       [7.2, 3.6, 6.1, 2.5],\n",
            "       [6.5, 3.2, 5.1, 2. ],\n",
            "       [6.4, 2.7, 5.3, 1.9],\n",
            "       [6.8, 3. , 5.5, 2.1],\n",
            "       [5.7, 2.5, 5. , 2. ],\n",
            "       [5.8, 2.8, 5.1, 2.4],\n",
            "       [6.4, 3.2, 5.3, 2.3],\n",
            "       [6.5, 3. , 5.5, 1.8],\n",
            "       [7.7, 3.8, 6.7, 2.2],\n",
            "       [7.7, 2.6, 6.9, 2.3],\n",
            "       [6. , 2.2, 5. , 1.5],\n",
            "       [6.9, 3.2, 5.7, 2.3],\n",
            "       [5.6, 2.8, 4.9, 2. ],\n",
            "       [7.7, 2.8, 6.7, 2. ],\n",
            "       [6.3, 2.7, 4.9, 1.8],\n",
            "       [6.7, 3.3, 5.7, 2.1],\n",
            "       [7.2, 3.2, 6. , 1.8],\n",
            "       [6.2, 2.8, 4.8, 1.8],\n",
            "       [6.1, 3. , 4.9, 1.8],\n",
            "       [6.4, 2.8, 5.6, 2.1],\n",
            "       [7.2, 3. , 5.8, 1.6],\n",
            "       [7.4, 2.8, 6.1, 1.9],\n",
            "       [7.9, 3.8, 6.4, 2. ],\n",
            "       [6.4, 2.8, 5.6, 2.2],\n",
            "       [6.3, 2.8, 5.1, 1.5],\n",
            "       [6.1, 2.6, 5.6, 1.4],\n",
            "       [7.7, 3. , 6.1, 2.3],\n",
            "       [6.3, 3.4, 5.6, 2.4],\n",
            "       [6.4, 3.1, 5.5, 1.8],\n",
            "       [6. , 3. , 4.8, 1.8],\n",
            "       [6.9, 3.1, 5.4, 2.1],\n",
            "       [6.7, 3.1, 5.6, 2.4],\n",
            "       [6.9, 3.1, 5.1, 2.3],\n",
            "       [5.8, 2.7, 5.1, 1.9],\n",
            "       [6.8, 3.2, 5.9, 2.3],\n",
            "       [6.7, 3.3, 5.7, 2.5],\n",
            "       [6.7, 3. , 5.2, 2.3],\n",
            "       [6.3, 2.5, 5. , 1.9],\n",
            "       [6.5, 3. , 5.2, 2. ],\n",
            "       [6.2, 3.4, 5.4, 2.3],\n",
            "       [5.9, 3. , 5.1, 1.8]]), 'target': array([0, 0, 0, 0, 0, 0, 0, 0, 0, 0, 0, 0, 0, 0, 0, 0, 0, 0, 0, 0, 0, 0,\n",
            "       0, 0, 0, 0, 0, 0, 0, 0, 0, 0, 0, 0, 0, 0, 0, 0, 0, 0, 0, 0, 0, 0,\n",
            "       0, 0, 0, 0, 0, 0, 1, 1, 1, 1, 1, 1, 1, 1, 1, 1, 1, 1, 1, 1, 1, 1,\n",
            "       1, 1, 1, 1, 1, 1, 1, 1, 1, 1, 1, 1, 1, 1, 1, 1, 1, 1, 1, 1, 1, 1,\n",
            "       1, 1, 1, 1, 1, 1, 1, 1, 1, 1, 1, 1, 2, 2, 2, 2, 2, 2, 2, 2, 2, 2,\n",
            "       2, 2, 2, 2, 2, 2, 2, 2, 2, 2, 2, 2, 2, 2, 2, 2, 2, 2, 2, 2, 2, 2,\n",
            "       2, 2, 2, 2, 2, 2, 2, 2, 2, 2, 2, 2, 2, 2, 2, 2, 2, 2]), 'frame': None, 'target_names': array(['setosa', 'versicolor', 'virginica'], dtype='<U10'), 'DESCR': '.. _iris_dataset:\\n\\nIris plants dataset\\n--------------------\\n\\n**Data Set Characteristics:**\\n\\n    :Number of Instances: 150 (50 in each of three classes)\\n    :Number of Attributes: 4 numeric, predictive attributes and the class\\n    :Attribute Information:\\n        - sepal length in cm\\n        - sepal width in cm\\n        - petal length in cm\\n        - petal width in cm\\n        - class:\\n                - Iris-Setosa\\n                - Iris-Versicolour\\n                - Iris-Virginica\\n                \\n    :Summary Statistics:\\n\\n    ============== ==== ==== ======= ===== ====================\\n                    Min  Max   Mean    SD   Class Correlation\\n    ============== ==== ==== ======= ===== ====================\\n    sepal length:   4.3  7.9   5.84   0.83    0.7826\\n    sepal width:    2.0  4.4   3.05   0.43   -0.4194\\n    petal length:   1.0  6.9   3.76   1.76    0.9490  (high!)\\n    petal width:    0.1  2.5   1.20   0.76    0.9565  (high!)\\n    ============== ==== ==== ======= ===== ====================\\n\\n    :Missing Attribute Values: None\\n    :Class Distribution: 33.3% for each of 3 classes.\\n    :Creator: R.A. Fisher\\n    :Donor: Michael Marshall (MARSHALL%PLU@io.arc.nasa.gov)\\n    :Date: July, 1988\\n\\nThe famous Iris database, first used by Sir R.A. Fisher. The dataset is taken\\nfrom Fisher\\'s paper. Note that it\\'s the same as in R, but not as in the UCI\\nMachine Learning Repository, which has two wrong data points.\\n\\nThis is perhaps the best known database to be found in the\\npattern recognition literature.  Fisher\\'s paper is a classic in the field and\\nis referenced frequently to this day.  (See Duda & Hart, for example.)  The\\ndata set contains 3 classes of 50 instances each, where each class refers to a\\ntype of iris plant.  One class is linearly separable from the other 2; the\\nlatter are NOT linearly separable from each other.\\n\\n.. topic:: References\\n\\n   - Fisher, R.A. \"The use of multiple measurements in taxonomic problems\"\\n     Annual Eugenics, 7, Part II, 179-188 (1936); also in \"Contributions to\\n     Mathematical Statistics\" (John Wiley, NY, 1950).\\n   - Duda, R.O., & Hart, P.E. (1973) Pattern Classification and Scene Analysis.\\n     (Q327.D83) John Wiley & Sons.  ISBN 0-471-22361-1.  See page 218.\\n   - Dasarathy, B.V. (1980) \"Nosing Around the Neighborhood: A New System\\n     Structure and Classification Rule for Recognition in Partially Exposed\\n     Environments\".  IEEE Transactions on Pattern Analysis and Machine\\n     Intelligence, Vol. PAMI-2, No. 1, 67-71.\\n   - Gates, G.W. (1972) \"The Reduced Nearest Neighbor Rule\".  IEEE Transactions\\n     on Information Theory, May 1972, 431-433.\\n   - See also: 1988 MLC Proceedings, 54-64.  Cheeseman et al\"s AUTOCLASS II\\n     conceptual clustering system finds 3 classes in the data.\\n   - Many, many more ...', 'feature_names': ['sepal length (cm)', 'sepal width (cm)', 'petal length (cm)', 'petal width (cm)'], 'filename': 'iris.csv', 'data_module': 'sklearn.datasets.data'}\n"
          ]
        },
        {
          "output_type": "stream",
          "name": "stderr",
          "text": [
            "/usr/local/lib/python3.10/dist-packages/sklearn/base.py:439: UserWarning: X does not have valid feature names, but SVC was fitted with feature names\n",
            "  warnings.warn(\n"
          ]
        },
        {
          "output_type": "execute_result",
          "data": {
            "text/plain": [
              "SVC(C=1)"
            ],
            "text/html": [
              "<style>#sk-container-id-2 {color: black;background-color: white;}#sk-container-id-2 pre{padding: 0;}#sk-container-id-2 div.sk-toggleable {background-color: white;}#sk-container-id-2 label.sk-toggleable__label {cursor: pointer;display: block;width: 100%;margin-bottom: 0;padding: 0.3em;box-sizing: border-box;text-align: center;}#sk-container-id-2 label.sk-toggleable__label-arrow:before {content: \"▸\";float: left;margin-right: 0.25em;color: #696969;}#sk-container-id-2 label.sk-toggleable__label-arrow:hover:before {color: black;}#sk-container-id-2 div.sk-estimator:hover label.sk-toggleable__label-arrow:before {color: black;}#sk-container-id-2 div.sk-toggleable__content {max-height: 0;max-width: 0;overflow: hidden;text-align: left;background-color: #f0f8ff;}#sk-container-id-2 div.sk-toggleable__content pre {margin: 0.2em;color: black;border-radius: 0.25em;background-color: #f0f8ff;}#sk-container-id-2 input.sk-toggleable__control:checked~div.sk-toggleable__content {max-height: 200px;max-width: 100%;overflow: auto;}#sk-container-id-2 input.sk-toggleable__control:checked~label.sk-toggleable__label-arrow:before {content: \"▾\";}#sk-container-id-2 div.sk-estimator input.sk-toggleable__control:checked~label.sk-toggleable__label {background-color: #d4ebff;}#sk-container-id-2 div.sk-label input.sk-toggleable__control:checked~label.sk-toggleable__label {background-color: #d4ebff;}#sk-container-id-2 input.sk-hidden--visually {border: 0;clip: rect(1px 1px 1px 1px);clip: rect(1px, 1px, 1px, 1px);height: 1px;margin: -1px;overflow: hidden;padding: 0;position: absolute;width: 1px;}#sk-container-id-2 div.sk-estimator {font-family: monospace;background-color: #f0f8ff;border: 1px dotted black;border-radius: 0.25em;box-sizing: border-box;margin-bottom: 0.5em;}#sk-container-id-2 div.sk-estimator:hover {background-color: #d4ebff;}#sk-container-id-2 div.sk-parallel-item::after {content: \"\";width: 100%;border-bottom: 1px solid gray;flex-grow: 1;}#sk-container-id-2 div.sk-label:hover label.sk-toggleable__label {background-color: #d4ebff;}#sk-container-id-2 div.sk-serial::before {content: \"\";position: absolute;border-left: 1px solid gray;box-sizing: border-box;top: 0;bottom: 0;left: 50%;z-index: 0;}#sk-container-id-2 div.sk-serial {display: flex;flex-direction: column;align-items: center;background-color: white;padding-right: 0.2em;padding-left: 0.2em;position: relative;}#sk-container-id-2 div.sk-item {position: relative;z-index: 1;}#sk-container-id-2 div.sk-parallel {display: flex;align-items: stretch;justify-content: center;background-color: white;position: relative;}#sk-container-id-2 div.sk-item::before, #sk-container-id-2 div.sk-parallel-item::before {content: \"\";position: absolute;border-left: 1px solid gray;box-sizing: border-box;top: 0;bottom: 0;left: 50%;z-index: -1;}#sk-container-id-2 div.sk-parallel-item {display: flex;flex-direction: column;z-index: 1;position: relative;background-color: white;}#sk-container-id-2 div.sk-parallel-item:first-child::after {align-self: flex-end;width: 50%;}#sk-container-id-2 div.sk-parallel-item:last-child::after {align-self: flex-start;width: 50%;}#sk-container-id-2 div.sk-parallel-item:only-child::after {width: 0;}#sk-container-id-2 div.sk-dashed-wrapped {border: 1px dashed gray;margin: 0 0.4em 0.5em 0.4em;box-sizing: border-box;padding-bottom: 0.4em;background-color: white;}#sk-container-id-2 div.sk-label label {font-family: monospace;font-weight: bold;display: inline-block;line-height: 1.2em;}#sk-container-id-2 div.sk-label-container {text-align: center;}#sk-container-id-2 div.sk-container {/* jupyter's `normalize.less` sets `[hidden] { display: none; }` but bootstrap.min.css set `[hidden] { display: none !important; }` so we also need the `!important` here to be able to override the default hidden behavior on the sphinx rendered scikit-learn.org. See: https://github.com/scikit-learn/scikit-learn/issues/21755 */display: inline-block !important;position: relative;}#sk-container-id-2 div.sk-text-repr-fallback {display: none;}</style><div id=\"sk-container-id-2\" class=\"sk-top-container\"><div class=\"sk-text-repr-fallback\"><pre>SVC(C=1)</pre><b>In a Jupyter environment, please rerun this cell to show the HTML representation or trust the notebook. <br />On GitHub, the HTML representation is unable to render, please try loading this page with nbviewer.org.</b></div><div class=\"sk-container\" hidden><div class=\"sk-item\"><div class=\"sk-estimator sk-toggleable\"><input class=\"sk-toggleable__control sk-hidden--visually\" id=\"sk-estimator-id-2\" type=\"checkbox\" checked><label for=\"sk-estimator-id-2\" class=\"sk-toggleable__label sk-toggleable__label-arrow\">SVC</label><div class=\"sk-toggleable__content\"><pre>SVC(C=1)</pre></div></div></div></div></div>"
            ]
          },
          "metadata": {},
          "execution_count": 2
        }
      ]
    },
    {
      "cell_type": "code",
      "source": [],
      "metadata": {
        "id": "aA2X1rL-FX-z"
      },
      "execution_count": null,
      "outputs": []
    },
    {
      "cell_type": "code",
      "source": [
        "from sklearn.datasets import load_digits\n",
        "import pandas as pd\n",
        "data1 = load_digits()\n",
        "# directory inside data\n",
        "\n",
        "dir(data1)\n",
        "data1.DESCR\n",
        "# df = pd.DataFrame(data1.data,columns=data1.feature_names)\n",
        "# df"
      ],
      "metadata": {
        "colab": {
          "base_uri": "https://localhost:8080/",
          "height": 123
        },
        "id": "erw3zvQ3KOeJ",
        "outputId": "9fdff61c-d065-4e5d-aea0-699f30ad79e1"
      },
      "execution_count": null,
      "outputs": [
        {
          "output_type": "execute_result",
          "data": {
            "text/plain": [
              "\".. _digits_dataset:\\n\\nOptical recognition of handwritten digits dataset\\n--------------------------------------------------\\n\\n**Data Set Characteristics:**\\n\\n    :Number of Instances: 1797\\n    :Number of Attributes: 64\\n    :Attribute Information: 8x8 image of integer pixels in the range 0..16.\\n    :Missing Attribute Values: None\\n    :Creator: E. Alpaydin (alpaydin '@' boun.edu.tr)\\n    :Date: July; 1998\\n\\nThis is a copy of the test set of the UCI ML hand-written digits datasets\\nhttps://archive.ics.uci.edu/ml/datasets/Optical+Recognition+of+Handwritten+Digits\\n\\nThe data set contains images of hand-written digits: 10 classes where\\neach class refers to a digit.\\n\\nPreprocessing programs made available by NIST were used to extract\\nnormalized bitmaps of handwritten digits from a preprinted form. From a\\ntotal of 43 people, 30 contributed to the training set and different 13\\nto the test set. 32x32 bitmaps are divided into nonoverlapping blocks of\\n4x4 and the number of on pixels are counted in each block. This generates\\nan input matrix of 8x8 where each element is an integer in the range\\n0..16. This reduces dimensionality and gives invariance to small\\ndistortions.\\n\\nFor info on NIST preprocessing routines, see M. D. Garris, J. L. Blue, G.\\nT. Candela, D. L. Dimmick, J. Geist, P. J. Grother, S. A. Janet, and C.\\nL. Wilson, NIST Form-Based Handprint Recognition System, NISTIR 5469,\\n1994.\\n\\n.. topic:: References\\n\\n  - C. Kaynak (1995) Methods of Combining Multiple Classifiers and Their\\n    Applications to Handwritten Digit Recognition, MSc Thesis, Institute of\\n    Graduate Studies in Science and Engineering, Bogazici University.\\n  - E. Alpaydin, C. Kaynak (1998) Cascading Classifiers, Kybernetika.\\n  - Ken Tang and Ponnuthurai N. Suganthan and Xi Yao and A. Kai Qin.\\n    Linear dimensionalityreduction using relevance weighted LDA. School of\\n    Electrical and Electronic Engineering Nanyang Technological University.\\n    2005.\\n  - Claudio Gentile. A New Approximate Maximal Margin Classification\\n    Algorithm. NIPS. 2000.\\n\""
            ],
            "application/vnd.google.colaboratory.intrinsic+json": {
              "type": "string"
            }
          },
          "metadata": {},
          "execution_count": 17
        }
      ]
    },
    {
      "cell_type": "markdown",
      "source": [
        "# **Test **\n",
        "\n",
        "**Exercise**\n",
        "\n",
        "Train SVM classifier using sklearn digits dataset (i.e. from sklearn.datasets import load_digits) and then,\n",
        "\n",
        "Measure accuracy of your model using different kernels such as rbf and linear.\n",
        "\n",
        "Tune your model further using regularization and gamma parameters and try to come up with highest accurancy score\n",
        "\n",
        "Use 80% of samples as training data size"
      ],
      "metadata": {
        "id": "rNmP-tVtjArG"
      }
    },
    {
      "cell_type": "markdown",
      "source": [
        "Random Forest\n",
        "\n",
        "Random Forest is one of the most popular and commonly used algorithms by Data Scientists. Random forest is a Supervised Machine Learning Algorithm that is used widely in Classification and Regression problems. It builds decision trees on different samples and takes their majority vote for classification and average in case of regression.\n",
        "\n",
        "\n",
        "**Working of Random Forest Algorithm**\n",
        "\n",
        "Before understanding the working of the random forest algorithm in machine learning, we must look into the ensemble learning technique.\n",
        "\n",
        " Ensemble simplymeans combining multiple models. Thus a collection of models is used to make predictions rather than an individual model.\n",
        "\n",
        "\n",
        " Bagging :  It creates a different training subset from sample training data with replacement & the final output is based on majority voting. For example,  Random Forest.\n",
        "\n",
        "\n",
        " Boosting– It combines weak learners into strong learners by creating sequential models such that the final model has the highest accuracy. For example,  ADA BOOST, XG BOOST.\n",
        "\n",
        " https://av-eks-blogoptimized.s3.amazonaws.com/4661536426211ba43ea612c8e1a6a1ed4550721164.png\n",
        "\n",
        "\n",
        " https://av-eks-blogoptimized.s3.amazonaws.com/77772440px-Ensemble_Bagging66584.png\n",
        "\n"
      ],
      "metadata": {
        "id": "GgUPwviceH5h"
      }
    },
    {
      "cell_type": "markdown",
      "source": [
        "K-Means"
      ],
      "metadata": {
        "id": "vt9iGcsDlDkk"
      }
    },
    {
      "cell_type": "code",
      "source": [
        "from sklearn.cluster import KMeans\n",
        "import pandas as pd\n",
        "from sklearn.preprocessing import MinMaxScaler\n",
        "from matplotlib import pyplot as plt"
      ],
      "metadata": {
        "id": "wYwV3IVulEYB"
      },
      "execution_count": null,
      "outputs": []
    },
    {
      "cell_type": "code",
      "source": [
        "df = pd.read_csv(\"/content/sample_data/income.csv\")\n",
        "df.head()\n",
        "\n",
        "plt.scatter(df.Age,df['Income($)'])\n",
        "plt.xlabel('Age')\n",
        "plt.ylabel('Income($)')\n",
        "\n",
        "\n",
        "# form a cluster\n",
        "km = KMeans(n_clusters=3)\n",
        "y_predicted = km.fit_predict(df[['Age','Income($)']])\n",
        "\n",
        "y_predicted\n",
        "\n",
        "df['cluster']=y_predicted\n",
        "# df.head(15)\n",
        "\n",
        "#check the centroid in each cluster\n",
        "# km.cluster_centers_\n",
        "\n",
        "# df1 = df[df.cluster==0]\n",
        "# df2 = df[df.cluster==1]\n",
        "# df3 = df[df.cluster==2]\n",
        "\n",
        "# plt.scatter(df1.Age,df1['Income($)'],color='green')\n",
        "# plt.scatter(df2.Age,df2['Income($)'],color='red')\n",
        "# plt.scatter(df3.Age,df3['Income($)'],color='black')\n",
        "# plt.scatter(km.cluster_centers_[:,0],km.cluster_centers_[:,1],color='purple',marker='*',label='centroid')\n",
        "# plt.xlabel('Age')\n",
        "# plt.ylabel('Income ($)')\n",
        "# plt.legend()"
      ],
      "metadata": {
        "colab": {
          "base_uri": "https://localhost:8080/",
          "height": 504
        },
        "id": "Ux9GmRmAloFT",
        "outputId": "d2fda9d0-3623-42b9-839f-0f13298fab4e"
      },
      "execution_count": null,
      "outputs": [
        {
          "output_type": "stream",
          "name": "stderr",
          "text": [
            "/usr/local/lib/python3.10/dist-packages/sklearn/cluster/_kmeans.py:870: FutureWarning: The default value of `n_init` will change from 10 to 'auto' in 1.4. Set the value of `n_init` explicitly to suppress the warning\n",
            "  warnings.warn(\n"
          ]
        },
        {
          "output_type": "display_data",
          "data": {
            "text/plain": [
              "<Figure size 640x480 with 1 Axes>"
            ],
            "image/png": "[encoded data removed]"
          },
          "metadata": {}
        }
      ]
    },
    {
      "cell_type": "code",
      "source": [
        "MYSQL basic commands :\n",
        "\n",
        "\n",
        "  a) create database #name;\n",
        "  b)show databases;\n",
        "  c)use #name of db;\n",
        "  d) create table #tablename ( give columns ex: name VARCHAR(255), Age int, Address VARCHAR(255));\n",
        "  e)show tables;\n",
        "  f)insert into #tablename(specify columns wich u want to add data Ex: name, Age, Address) values ( mention values Ex: \"arun\",'21',\"street 24th ward no 4, ballari\");\n",
        "  g)select * from #tablename; ( shows all data in the table)"
      ],
      "metadata": {
        "id": "FbAxmlWdEd87"
      },
      "execution_count": null,
      "outputs": []
    },
    {
      "cell_type": "markdown",
      "source": [
        "# Fake News\n",
        "\n",
        "A type of yellow journalism, fake news encapsulates pieces of news that may be hoaxes and is generally spread through social media and other online media.\n",
        "\n",
        "\n",
        "**TfidfVectorizer**\n",
        "\n",
        "TF (Term Frequency): The number of times a word appears in a document is its Term Frequency. A higher value means a term appears more often than others, and so, the document is a good match when the term is part of the search terms.\n",
        "\n",
        "\n",
        "## Detecting Fake News with Python\n",
        "\n",
        "Goal: To build a model to accurately classify a piece of news as REAL or FAKE.\n",
        "\n",
        "\n",
        "\n",
        "**Required: **\n",
        "\n",
        "This advanced python project of detecting fake news deals with fake and real news. Using sklearn, we build a TfidfVectorizer on our dataset. Then, we initialize a PassiveAggressive Classifier and fit the model. In the end, the accuracy score and the confusion matrix tell us how well our model fares."
      ],
      "metadata": {
        "id": "uS280oGeQV80"
      }
    },
    {
      "cell_type": "code",
      "source": [
        "import numpy as np\n",
        "import pandas as pd\n",
        "import itertools\n",
        "from sklearn.model_selection import train_test_split\n",
        "from sklearn.feature_extraction.text import TfidfVectorizer\n",
        "from sklearn.linear_model import PassiveAggressiveClassifier\n",
        "from sklearn.metrics import accuracy_score, confusion_matrix"
      ],
      "metadata": {
        "id": "G-ik9hLLRjcF"
      },
      "execution_count": 1,
      "outputs": []
    },
    {
      "cell_type": "code",
      "source": [
        "#Read the data\n",
        "df=pd.read_csv('/content/sample_data/news.csv',sep=',')\n",
        "\n",
        "#Get shape and head\n",
        "df.shape\n",
        "df.info()"
      ],
      "metadata": {
        "colab": {
          "base_uri": "https://localhost:8080/"
        },
        "id": "Pv73vPvVRogH",
        "outputId": "89fcfd42-bce9-477a-a781-462bac9e8aaf"
      },
      "execution_count": 7,
      "outputs": [
        {
          "output_type": "stream",
          "name": "stdout",
          "text": [
            "<class 'pandas.core.frame.DataFrame'>\n",
            "RangeIndex: 6335 entries, 0 to 6334\n",
            "Data columns (total 4 columns):\n",
            " #   Column      Non-Null Count  Dtype \n",
            "---  ------      --------------  ----- \n",
            " 0   Unnamed: 0  6335 non-null   int64 \n",
            " 1   title       6335 non-null   object\n",
            " 2   text        6335 non-null   object\n",
            " 3   label       6335 non-null   object\n",
            "dtypes: int64(1), object(3)\n",
            "memory usage: 198.1+ KB\n"
          ]
        }
      ]
    },
    {
      "cell_type": "code",
      "source": [
        " #Get the labels\n",
        "labels=df.label\n",
        "labels.head()"
      ],
      "metadata": {
        "colab": {
          "base_uri": "https://localhost:8080/"
        },
        "id": "Nm7OG3_bTc0B",
        "outputId": "18103358-cfef-4544-eb95-67d705a1547c"
      },
      "execution_count": 8,
      "outputs": [
        {
          "output_type": "execute_result",
          "data": {
            "text/plain": [
              "0    FAKE\n",
              "1    FAKE\n",
              "2    REAL\n",
              "3    FAKE\n",
              "4    REAL\n",
              "Name: label, dtype: object"
            ]
          },
          "metadata": {},
          "execution_count": 8
        }
      ]
    },
    {
      "cell_type": "code",
      "source": [
        "#Split the dataset\n",
        "x_train,x_test,y_train,y_test=train_test_split(df['text'], labels, test_size=0.2, random_state=7)"
      ],
      "metadata": {
        "id": "GDxIBkHDTiEi"
      },
      "execution_count": 9,
      "outputs": []
    },
    {
      "cell_type": "markdown",
      "source": [
        "Let’s initialize a TfidfVectorizer with stop words from the English language and a maximum document frequency of 0.7 (terms with a higher document frequency will be discarded). Stop words are the most common words in a language that are to be filtered out before processing the natural language data. And a TfidfVectorizer turns a collection of raw documents into a matrix of TF-IDF features.\n",
        "\n",
        "Now, fit and transform the vectorizer on the train set, and transform the vectorizer on the test set."
      ],
      "metadata": {
        "id": "u3Hc1XO5T2Ij"
      }
    },
    {
      "cell_type": "code",
      "source": [
        "#Initialize a TfidfVectorizer\n",
        "tfidf_vectorizer=TfidfVectorizer(stop_words='english', max_df=0.7)\n",
        "\n",
        "#Fit and transform train set, transform test set\n",
        "tfidf_train=tfidf_vectorizer.fit_transform(x_train)\n",
        "tfidf_test=tfidf_vectorizer.transform(x_test)\n"
      ],
      "metadata": {
        "id": "K2HpKCqMT304"
      },
      "execution_count": null,
      "outputs": []
    },
    {
      "cell_type": "markdown",
      "source": [
        "Next, we’ll initialize a PassiveAggressiveClassifier. This is. We’ll fit this on tfidf_train and y_train.\n",
        "\n",
        "Then, we’ll predict on the test set from the TfidfVectorizer and calculate the accuracy with accuracy_score() from sklearn.metrics."
      ],
      "metadata": {
        "id": "bZeUj93sUQ0n"
      }
    },
    {
      "cell_type": "code",
      "source": [
        "# - Initialize a PassiveAggressiveClassifier\n",
        "pac=PassiveAggressiveClassifier(max_iter=50)\n",
        "pac.fit(tfidf_train,y_train)\n",
        "\n",
        "#- Predict on the test set and calculate accuracy\n",
        "y_pred=pac.predict(tfidf_test)\n",
        "score=accuracy_score(y_test,y_pred)\n",
        "#print(f'Accuracy: {round(score*100,2)}%')\n",
        "y_pred"
      ],
      "metadata": {
        "colab": {
          "base_uri": "https://localhost:8080/"
        },
        "id": "8r8LCjmnURxL",
        "outputId": "ced92ac2-3134-4cef-a079-ebf3f1b82da3"
      },
      "execution_count": 16,
      "outputs": [
        {
          "output_type": "execute_result",
          "data": {
            "text/plain": [
              "array(['REAL', 'FAKE', 'REAL', ..., 'REAL', 'FAKE', 'REAL'], dtype='<U4')"
            ]
          },
          "metadata": {},
          "execution_count": 16
        }
      ]
    }
  ],
  "metadata": {
    "colab": {
      "provenance": [],
      "include_colab_link": true
    },
    "kernelspec": {
      "display_name": "Python 3",
      "name": "python3"
    },
    "language_info": {
      "name": "python"
    }
  },
  "nbformat": 4,
  "nbformat_minor": 0
}